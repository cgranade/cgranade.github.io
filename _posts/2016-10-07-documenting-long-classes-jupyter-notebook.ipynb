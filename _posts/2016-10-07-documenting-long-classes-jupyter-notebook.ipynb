{
 "cells": [
  {
   "cell_type": "markdown",
   "metadata": {},
   "source": [
    "[View this post as a Jupyter Notebook](http://nbviewer.jupyter.org/github/cgranade/cgranade.github.io/blob/master/_posts/2016-10-07-documenting-long-classes-jupyter-notebook.ipynb)"
   ]
  },
  {
   "cell_type": "markdown",
   "metadata": {},
   "source": [
    "In an [earlier post](https://www.cgranade.com/blog/2016/05/27/hello-world.html), I described my experiment with using Jupyter Notebook and Jekyll together to write blog posts. This turns out to be very convienent for writing about scientific software, as it allows me to make blog posts that interlace code, figures, mathematics and explanatory prose in a way that hopefully is helpful for my readers. My approach does, however, come with some annoying limitations. For instance, if I want to describe a Python class with several methods and properties, it is difficult to explain each part of that class independently. Though addressing this limitation is currently [on the wishlist](https://github.com/jupyter/notebook/issues/1243) for the Jupyter Notebook project, the current version doesn't really have a \"good\" way of dealing with this limitation.\n",
    "\n",
    "In this post, I'll describe a \"bad\" way of describing long classes, by using inheritance to break up long definitions. I say that this is \"bad\" because it creates a needlessly complicated class hierarchy and code that is far from production-quality, but I think it's still a useful technique in that it allows for clearer explanations."
   ]
  },
  {
   "cell_type": "markdown",
   "metadata": {},
   "source": [
    "We begin by using ``print_function`` and the [``future`` library](https://pypi.python.org/pypi/future) to provide better Python 2/3 compatability."
   ]
  },
  {
   "cell_type": "code",
   "execution_count": 1,
   "metadata": {
    "collapsed": true
   },
   "outputs": [],
   "source": [
    "from __future__ import print_function\n",
    "from future.utils import with_metaclass"
   ]
  },
  {
   "cell_type": "markdown",
   "metadata": {},
   "source": [
    "Next, to show that the inheritence trick works well for abstract classes, we import from the ``abc`` standard library package."
   ]
  },
  {
   "cell_type": "code",
   "execution_count": 2,
   "metadata": {
    "collapsed": true
   },
   "outputs": [],
   "source": [
    "from abc import ABCMeta, abstractmethod"
   ]
  },
  {
   "cell_type": "markdown",
   "metadata": {},
   "source": [
    "Getting to the example itself, suppose that you want to define a class with two methods, ``foo`` and ``bar``. We represent this as an abstract base class (hence ``abc``) with two abstract methods."
   ]
  },
  {
   "cell_type": "code",
   "execution_count": 3,
   "metadata": {
    "collapsed": false
   },
   "outputs": [],
   "source": [
    "class AbstractBase(with_metaclass(ABCMeta, object)):\n",
    "    @abstractmethod\n",
    "    def foo(self, x):\n",
    "        pass\n",
    "    \n",
    "    @abstractmethod\n",
    "    def bar(self, y):\n",
    "        pass"
   ]
  },
  {
   "cell_type": "markdown",
   "metadata": {},
   "source": [
    "If we now try to describe an example concrete (that is, not abstract) class inheriting from ``AbstractBase``, we must define both ``foo`` and ``bar``. If we leave one out, then we get a ``TypeError``."
   ]
  },
  {
   "cell_type": "code",
   "execution_count": 4,
   "metadata": {
    "collapsed": true
   },
   "outputs": [],
   "source": [
    "class A(AbstractBase):\n",
    "    def foo(self, x):\n",
    "        return x"
   ]
  },
  {
   "cell_type": "code",
   "execution_count": 5,
   "metadata": {
    "collapsed": false
   },
   "outputs": [
    {
     "name": "stdout",
     "output_type": "stream",
     "text": [
      "Can't instantiate abstract class A with abstract methods bar\n"
     ]
    }
   ],
   "source": [
    "try:\n",
    "    a = A()\n",
    "except TypeError as ex:\n",
    "    print(ex)"
   ]
  },
  {
   "cell_type": "markdown",
   "metadata": {},
   "source": [
    "Thankfully, we can use inheritance to provide the second method (in this case, ``bar``) *after* we have defined our example class."
   ]
  },
  {
   "cell_type": "code",
   "execution_count": 6,
   "metadata": {
    "collapsed": true
   },
   "outputs": [],
   "source": [
    "class A(A):\n",
    "    def bar(self, y):\n",
    "        return y ** 2"
   ]
  },
  {
   "cell_type": "code",
   "execution_count": 7,
   "metadata": {
    "collapsed": true
   },
   "outputs": [],
   "source": [
    "a = A()"
   ]
  },
  {
   "cell_type": "code",
   "execution_count": 8,
   "metadata": {
    "collapsed": false
   },
   "outputs": [
    {
     "data": {
      "text/plain": [
       "4"
      ]
     },
     "execution_count": 8,
     "metadata": {},
     "output_type": "execute_result"
    }
   ],
   "source": [
    "a.bar(2)"
   ]
  },
  {
   "cell_type": "markdown",
   "metadata": {},
   "source": [
    "What's going on here? In particular, how can ``A`` inherit from itself? Remember that in Python, classes are themselves values that can be manipulated at runtime. Thus, if we define a class ``B``, we can do things like print that new class out to the console."
   ]
  },
  {
   "cell_type": "code",
   "execution_count": 9,
   "metadata": {
    "collapsed": false
   },
   "outputs": [
    {
     "name": "stdout",
     "output_type": "stream",
     "text": [
      "<class '__main__.B'>\n"
     ]
    }
   ],
   "source": [
    "class B(object):\n",
    "    pass\n",
    "\n",
    "print(B)"
   ]
  },
  {
   "cell_type": "markdown",
   "metadata": {},
   "source": [
    "As with any other Python value, we can ask for the ``id`` of a class. This returns a unique number that identifies that class, even if we assign it to different variables."
   ]
  },
  {
   "cell_type": "code",
   "execution_count": 10,
   "metadata": {
    "collapsed": false
   },
   "outputs": [
    {
     "name": "stdout",
     "output_type": "stream",
     "text": [
      "68473768\n",
      "68473768\n"
     ]
    }
   ],
   "source": [
    "print(id(B))\n",
    "C = B\n",
    "print(id(C))"
   ]
  },
  {
   "cell_type": "markdown",
   "metadata": {},
   "source": [
    "Notably, if we define a new class that is also called ``B``, this \"hides\" the old definition of ``B`` and gives us a class with a different ``id``."
   ]
  },
  {
   "cell_type": "code",
   "execution_count": 11,
   "metadata": {
    "collapsed": false
   },
   "outputs": [
    {
     "name": "stdout",
     "output_type": "stream",
     "text": [
      "68453000\n"
     ]
    }
   ],
   "source": [
    "class B(object):\n",
    "    pass\n",
    "\n",
    "print(id(B))"
   ]
  },
  {
   "cell_type": "markdown",
   "metadata": {},
   "source": [
    "The old class still exists, however, such that we can get to it if we assigned it to a different variable."
   ]
  },
  {
   "cell_type": "code",
   "execution_count": 12,
   "metadata": {
    "collapsed": false
   },
   "outputs": [
    {
     "name": "stdout",
     "output_type": "stream",
     "text": [
      "68473768\n",
      "<class '__main__.B'>\n"
     ]
    }
   ],
   "source": [
    "print(id(C))\n",
    "print(C)"
   ]
  },
  {
   "cell_type": "markdown",
   "metadata": {},
   "source": [
    "Thus, when we make a class that \"inherits from itself,\" it doesn't really do that per se, but rather inherits from the old value of the variable that held that class. We can confirm this by looking at the special attribute ``__bases__``, which returns a tuple of all base classes of a class."
   ]
  },
  {
   "cell_type": "code",
   "execution_count": 13,
   "metadata": {
    "collapsed": false
   },
   "outputs": [
    {
     "name": "stdout",
     "output_type": "stream",
     "text": [
      "68470936\n",
      "68485096\n",
      "[68470936L]\n"
     ]
    }
   ],
   "source": [
    "class D(object):\n",
    "    pass\n",
    "\n",
    "print(id(D))\n",
    "\n",
    "class D(D):\n",
    "    pass\n",
    "\n",
    "print(id(D))\n",
    "print([id(base_class) for base_class in D.__bases__])"
   ]
  },
  {
   "cell_type": "markdown",
   "metadata": {},
   "source": [
    "Thus, the \"old value\" of our class still lives on, as referred to by the ``__bases__`` attribute of our new class. Practically speaking, this is a terrible and confusing thing to do, but it has a very nice effect for our purposes, of letting us progressively add attributes such as methods and properties to a class."
   ]
  },
  {
   "cell_type": "code",
   "execution_count": 14,
   "metadata": {
    "collapsed": false
   },
   "outputs": [
    {
     "name": "stdout",
     "output_type": "stream",
     "text": [
      "foo bar\n"
     ]
    }
   ],
   "source": [
    "class E(object):\n",
    "    x = 'foo'\n",
    "    \n",
    "class E(E):\n",
    "    y = 'bar'\n",
    "    \n",
    "print(E.x, E.y)"
   ]
  },
  {
   "cell_type": "markdown",
   "metadata": {},
   "source": [
    "In this way, self-inheritence can provide a useful technique for splitting up long class definitions. That said, it's a bad idea, so please don't use this in \"actual\" code, and if you do, don't blame me for the confusion that results."
   ]
  },
  {
   "cell_type": "markdown",
   "metadata": {},
   "source": [
    "We finish the post by exporting to Jekyll:"
   ]
  },
  {
   "cell_type": "code",
   "execution_count": 15,
   "metadata": {
    "collapsed": false
   },
   "outputs": [
    {
     "name": "stderr",
     "output_type": "stream",
     "text": [
      "[NbConvertApp] Converting notebook 2016-10-07-documenting-long-classes-jupyter-notebook.ipynb to html\n",
      "[NbConvertApp] Writing 19556 bytes to 2016-10-07-documenting-long-classes-jupyter-notebook.html\n"
     ]
    }
   ],
   "source": [
    "!jupyter nbconvert --to html --template jekyll.tpl 2016-10-07-documenting-long-classes-jupyter-notebook"
   ]
  }
 ],
 "metadata": {
  "anaconda-cloud": {},
  "jekyll": {
   "name": "Documenting Long Classes in Jupyter Notebook"
  },
  "kernelspec": {
   "display_name": "Python [Root]",
   "language": "python",
   "name": "Python [Root]"
  },
  "language_info": {
   "codemirror_mode": {
    "name": "ipython",
    "version": 2
   },
   "file_extension": ".py",
   "mimetype": "text/x-python",
   "name": "python",
   "nbconvert_exporter": "python",
   "pygments_lexer": "ipython2",
   "version": "2.7.11"
  }
 },
 "nbformat": 4,
 "nbformat_minor": 0
}
