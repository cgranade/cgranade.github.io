{
 "metadata": {
  "name": ""
 },
 "nbformat": 3,
 "nbformat_minor": 0,
 "worksheets": [
  {
   "cells": [
    {
     "cell_type": "heading",
     "level": 1,
     "metadata": {
      "slideshow": {
       "slide_type": "slide"
      }
     },
     "source": [
      "Accelerated Random Benchmarking"
     ]
    },
    {
     "cell_type": "heading",
     "level": 2,
     "metadata": {
      "slideshow": {
       "slide_type": "-"
      }
     },
     "source": [
      "Christopher Granade <br />\n",
      "Institute for Quantum Computing"
     ]
    },
    {
     "cell_type": "heading",
     "level": 3,
     "metadata": {
      "slideshow": {
       "slide_type": "skip"
      }
     },
     "source": [
      "Abstract"
     ]
    },
    {
     "cell_type": "markdown",
     "metadata": {
      "slideshow": {
       "slide_type": "skip"
      }
     },
     "source": [
      "Producing useful quantum information devices requires efficiently\n",
      "assessing control of quantum systems, so that\n",
      "we can determine whether we have implemented a desired *gate*,\n",
      "and refine accordingly.\n",
      "*Randomized benchmarking* uses symmetry to reduce the difficulty of this task.\n",
      "\n",
      "We bound the resources required for benchmarking and show that\n",
      "with prior information, *orders* of magnitude in accuracy can be obtained.\n",
      "We reach these accuracies with near-optimal resources, improving dramatically\n",
      "on curve fitting.\n",
      "Finally, we show that our approach is useful for physical devices\n",
      "by comparing to simulations. "
     ]
    },
    {
     "cell_type": "markdown",
     "metadata": {},
     "source": [
      "[http://www.cgranade.com/research/talks/iqc/student-seminar-2014/](http://www.cgranade.com/research/talks/iqc/student-seminar-2014/)\n",
      "$\\renewcommand{\\vec}[1]{\\boldsymbol{#1}}$\n",
      "$\\newcommand{\\ket}[1]{\\left|#1\\right\\rangle}$\n",
      "$\\newcommand{\\dd}{\\mathrm{d}}$\n",
      "$\\newcommand{\\expect}{\\mathbb{E}}$\n",
      "$\\newcommand{\\matr}[1]{\\mathbf{#1}}$\n",
      "$\\newcommand{\\T}{\\mathrm{T}}$"
     ]
    },
    {
     "cell_type": "markdown",
     "metadata": {},
     "source": [
      "**Joint Work with** Christopher Ferrie and D. G. Cory"
     ]
    },
    {
     "cell_type": "heading",
     "level": 2,
     "metadata": {
      "slideshow": {
       "slide_type": "skip"
      }
     },
     "source": [
      "Compling and Hosting"
     ]
    },
    {
     "cell_type": "markdown",
     "metadata": {
      "slideshow": {
       "slide_type": "skip"
      }
     },
     "source": [
      "To compile these slides, we use **nbconvert**."
     ]
    },
    {
     "cell_type": "code",
     "collapsed": false,
     "input": [
      "!ipython nbconvert --to slides --template slides.tpl slides.ipynb\n",
      "!mv slides.slides.html slides.html"
     ],
     "language": "python",
     "metadata": {
      "slideshow": {
       "slide_type": "skip"
      }
     },
     "outputs": [
      {
       "output_type": "stream",
       "stream": "stdout",
       "text": [
        "[NbConvertApp] Using existing profile dir: u'/home/cgranade/.config/ipython/profile_default'\r\n",
        "[NbConvertApp] Converting notebook slides.ipynb to slides\r\n",
        "[NbConvertApp] Support files will be in slides_files/\r\n"
       ]
      },
      {
       "output_type": "stream",
       "stream": "stdout",
       "text": [
        "[NbConvertApp] Loaded template slides.tpl\r\n"
       ]
      },
      {
       "output_type": "stream",
       "stream": "stdout",
       "text": [
        "[NbConvertApp] Writing 220891 bytes to slides.slides.html\r\n"
       ]
      }
     ],
     "prompt_number": 57
    },
    {
     "cell_type": "markdown",
     "metadata": {
      "slideshow": {
       "slide_type": "skip"
      }
     },
     "source": [
      "If you want to view them in your browser complete with speaker notes, remote control support, etc., then you need to host the slides. The [instructions for Reveal.js](https://github.com/hakimel/reveal.js/#full-setup) include directions for hosting via a library called Grunt. Unfortunately, this doesn't work well with [remot.io](http://remot.io/), as that tool requires that you serve from port 80."
     ]
    },
    {
     "cell_type": "heading",
     "level": 2,
     "metadata": {
      "slideshow": {
       "slide_type": "skip"
      }
     },
     "source": [
      "Configuration"
     ]
    },
    {
     "cell_type": "markdown",
     "metadata": {
      "slideshow": {
       "slide_type": "skip"
      }
     },
     "source": [
      "Since we're going to display some ``<iframe>``s in this talk, we'll need to import the display functionality from IPython and write a small function. These have no part in the talk itself, so we mark these cells as *Skip* in the Cell Toolbar."
     ]
    },
    {
     "cell_type": "code",
     "collapsed": false,
     "input": [
      "from IPython.display import HTML"
     ],
     "language": "python",
     "metadata": {
      "slideshow": {
       "slide_type": "skip"
      }
     },
     "outputs": [],
     "prompt_number": 2
    },
    {
     "cell_type": "code",
     "collapsed": false,
     "input": [
      "def iframe(src):\n",
      "    return HTML('<iframe src=\"{}\" width=1000 height=400></iframe>'.format(src))"
     ],
     "language": "python",
     "metadata": {
      "slideshow": {
       "slide_type": "skip"
      }
     },
     "outputs": [],
     "prompt_number": 3
    },
    {
     "cell_type": "heading",
     "level": 1,
     "metadata": {
      "slideshow": {
       "slide_type": "slide"
      }
     },
     "source": [
      "Introduction"
     ]
    },
    {
     "cell_type": "markdown",
     "metadata": {},
     "source": [
      "Fully characterizing large quantum systems is very difficult.\n",
      "\n",
      "- Exponentially many parameters.\n",
      "- Classical simulation of large quantum systems is intractable.\n",
      "- State preparation and measurement (SPAM) errors.\n",
      "\n",
      "For some applications, fidelity alone can be useful. Ex:\n",
      "\n",
      "- Comparison to adversarial thresholds.\n",
      "- Feedback for refining control.\n",
      "\n",
      "Fidelity isn't the full story, though (Puzzuoli TODO)."
     ]
    },
    {
     "cell_type": "heading",
     "level": 1,
     "metadata": {
      "slideshow": {
       "slide_type": "slide"
      }
     },
     "source": [
      "Twirling"
     ]
    },
    {
     "cell_type": "markdown",
     "metadata": {},
     "source": [
      "- The Clifford group is a unitary 2-design, so conjugating a map $\\Lambda$ by random Cliffords samples from the Haar averaged channel\n",
      "$$\n",
      "    W[\\Lambda](\\rho) = \\int U \\Lambda(U^\\dagger \\rho U) U^\\dagger\\ \\dd U.\n",
      "$$\n",
      "- $W$ is a *superchannel* that maps quantum channels to *depolarizing* channels of strength\n",
      "$$\n",
      "    p = \\frac{d F - 1} {d - 1},\n",
      "$$ where $F$ is the fidelity of $\\Lambda$.\n",
      "\n",
      "> Knill et al, PRA **77** 012307 (2008). Magesan, Gambetta and Emerson, PRA **85** 042311 (2012). Wood, in preparation."
     ]
    },
    {
     "cell_type": "heading",
     "level": 1,
     "metadata": {
      "slideshow": {
       "slide_type": "slide"
      }
     },
     "source": [
      "Randomized Benchmarking"
     ]
    },
    {
     "cell_type": "markdown",
     "metadata": {},
     "source": [
      "- Don't have a perfect Clifford group to twirl by, but the *decay* of fidelity with the length $m$ of sequences gives info.\n",
      "- Choose each sequence such that ideal action is identity.\n",
      "\n",
      "![](files/figures/ex-signal-noninterleaved.svg)"
     ]
    },
    {
     "cell_type": "heading",
     "level": 1,
     "metadata": {
      "slideshow": {
       "slide_type": "slide"
      }
     },
     "source": [
      "Zeroth-Order Model"
     ]
    },
    {
     "cell_type": "markdown",
     "metadata": {
      "slideshow": {
       "slide_type": "-"
      }
     },
     "source": [
      "$$\n",
      "    F_g(m) = A p^m + B.\n",
      "$$\n",
      "\n",
      "- $A_0$, $B_0$ are constants describing SPAM errors. $F_g(m)$ is the average fidelity of a sequence of length $m$.\n",
      "- $p$ is then the depolarizing strength of $$\n",
      "    W[\\Lambda] = W\\left[\\expect_{C \\sim \\mathcal{C}} [\\Lambda_C] \\right],\n",
      "$$ taken over the implementation of each Clifford gate $C$.\n",
      "\n",
      "> Knill et al, PRA **77** 012307 (2008). Magesan, Gambetta and Emerson, PRA **85** 042311 (2012)."
     ]
    },
    {
     "cell_type": "heading",
     "level": 1,
     "metadata": {
      "slideshow": {
       "slide_type": "slide"
      }
     },
     "source": [
      "Interleaved Protocol"
     ]
    },
    {
     "cell_type": "markdown",
     "metadata": {},
     "source": [
      "- Can probe performance of a desired gate by *interleaving* it into the twirling sequences.\n",
      "- Effective depolarizing probability $p_{\\bar{\\mathcal{C}}} := \\tilde{p} p_{\\text{ref}}$.\n",
      "  - $\\tilde{p}$: depolarizing probability for the gate of interest.\n",
      "  - $p_{\\text{ref}}$: expected depolarizing probability, taken over gateset.\n",
      "\n",
      "![](files/figures/ex-signal-interleaved.svg)"
     ]
    },
    {
     "cell_type": "heading",
     "level": 1,
     "metadata": {
      "slideshow": {
       "slide_type": "slide"
      }
     },
     "source": [
      "Finite Sampling"
     ]
    },
    {
     "cell_type": "markdown",
     "metadata": {},
     "source": [
      "- Randomized benchmarking data is 0/1 data: was the initial state preserved by a random sequence of length $m$?\n",
      "- Conventional approach: estimate $\\hat{F}_g(m)$ using $K$ sequences for each of many $m$.\n",
      "- Epstein et al (1308.2928) investigate error bounds due to finite sampling."
     ]
    },
    {
     "cell_type": "heading",
     "level": 1,
     "metadata": {
      "slideshow": {
       "slide_type": "slide"
      }
     },
     "source": [
      "Cramer-Rao Bound"
     ]
    },
    {
     "cell_type": "markdown",
     "metadata": {},
     "source": [
      "- We extend by using Fisher information to investigate limit as $K \\to 1$.\n",
      "- Mean (taken over data) error matrix $\\expect_D[(\\hat{\\vec{x}} - \\vec{x}) (\\hat{\\vec{x}} - \\vec{x})^\\T]$ for *unbiased* estimators bounded by Cramer-Rao Bound:\n",
      "$$\n",
      "    \\matr{E}(\\vec{x}) \\ge \\matr{I}(\\vec{x}),\n",
      "$$\n",
      "where\n",
      "$$\n",
      "    \\matr{I}(\\vec{x}) := \\expect_{D | \\vec{x}} [\\nabla_{\\vec{x}} \\log\\Pr(D | \\vec{x}) \\cdot \\nabla_{\\vec{x}}^\\T \\log\\Pr(D | \\vec{x}) ]\n",
      "$$ is the Fisher information at $\\vec{x}$.\n",
      "\n",
      "- Here, $\\vec{x} = (p, A, B)$ or $(\\tilde{p}, p_{\\text{ref}}, A, B)$ are the unknown parameters being estimated."
     ]
    },
    {
     "cell_type": "heading",
     "level": 1,
     "metadata": {
      "slideshow": {
       "slide_type": "slide"
      }
     },
     "source": [
      "Experiment Design"
     ]
    },
    {
     "cell_type": "markdown",
     "metadata": {},
     "source": [
      "- Using Fisher information, we can choose most informative $m$ for hypotheses about $A$ and $B$.\n",
      "\n",
      "![](files/figures/best-m-vs-A.png)\n",
      "![](files/figures/best-m-vs-B.png)"
     ]
    },
    {
     "cell_type": "heading",
     "level": 1,
     "metadata": {
      "slideshow": {
       "slide_type": "slide"
      }
     },
     "source": [
      "Bayesian Approach"
     ]
    },
    {
     "cell_type": "markdown",
     "metadata": {},
     "source": [
      "In practice, we often have prior information. Demanding *unbiased* estimators is too strong.\n",
      "\n",
      "Let's take a Bayesian approach instead. After observing a datum $d$ taken from a sequence of length $m$:\n",
      "$$\n",
      "    \\Pr(\\vec{x} | d; m) = \\frac{\\Pr(d | \\vec{x}; m)}{\\Pr(d | m)} \\Pr(\\vec{x}).\n",
      "$$\n",
      "\n",
      "We can implement this on a computer using sequential Monte Carlo (SMC). For example:"
     ]
    },
    {
     "cell_type": "code",
     "collapsed": false,
     "input": [
      "from qinfer.smc import SMCUpdater\n",
      "from qinfer.rb import RandomizedBenchmarkingModel\n",
      "from qinfer.distributions import UniformDistribution\n",
      "\n",
      "prior = UniformDistribution([[0.9, 1], [0.4, 0.5], [0.5, 0.6]])\n",
      "updater = SMCUpdater(RandomizedBenchmarkingModel(), 10000, prior)\n",
      "\n",
      "# As data arrives:\n",
      "# updater.update(datum, experiment)"
     ],
     "language": "python",
     "metadata": {},
     "outputs": [],
     "prompt_number": 42
    },
    {
     "cell_type": "heading",
     "level": 1,
     "metadata": {
      "slideshow": {
       "slide_type": "slide"
      }
     },
     "source": [
      "Bayesian Cramer-Rao Bound"
     ]
    },
    {
     "cell_type": "markdown",
     "metadata": {},
     "source": [
      "With prior information, we need the *Bayesian* Cramer-Rao Bound,\n",
      "$$\n",
      "    \\expect_{\\vec{x}} [\\matr{E}(\\vec{x})] \\ge \\matr{J}^{-1},\n",
      "$$\n",
      "where\n",
      "$$\n",
      "    \\matr{J} := \\expect_{\\vec{x}} [\\matr{I}(\\vec{x})]\n",
      "$$\n",
      "is the Bayesian information matrix.\n",
      "\n",
      "This again can also be computed by using SMC."
     ]
    },
    {
     "cell_type": "code",
     "collapsed": false,
     "input": [
      "from qinfer.smc import SMCUpdaterBCRB\n",
      "updater = SMCUpdaterBCRB(RandomizedBenchmarkingModel(), 10000, prior, adaptive=True, initial_bim=None)\n",
      "\n",
      "# As data arrives, the BCRB is given by:\n",
      "# updater.current_bim"
     ],
     "language": "python",
     "metadata": {},
     "outputs": [],
     "prompt_number": 47
    },
    {
     "cell_type": "heading",
     "level": 1,
     "metadata": {
      "slideshow": {
       "slide_type": "slide"
      }
     },
     "source": [
      "Performance Results"
     ]
    },
    {
     "cell_type": "markdown",
     "metadata": {},
     "source": [
      "Our algorithm, accelerated by SMC, dramatically outperforms least-squares fitting, *especially* with small amounts of data.\n",
      "\n",
      "<img src=\"files/figures/risk-tr-comparison.svg\" style=\"height: 380px;\">\n",
      "\n",
      "TODO: add legend"
     ]
    },
    {
     "cell_type": "heading",
     "level": 1,
     "metadata": {
      "slideshow": {
       "slide_type": "slide"
      }
     },
     "source": [
      "Performance Results"
     ]
    },
    {
     "cell_type": "markdown",
     "metadata": {},
     "source": [
      "This advantage persists for changing the maximum sequence length as well.\n",
      "\n",
      "<img src=\"files/figures/risk-tr-comparison-vs-m-max.svg\" style=\"height: 380px;\">\n",
      "\n",
      "TODO: add legend"
     ]
    },
    {
     "cell_type": "heading",
     "level": 1,
     "metadata": {
      "slideshow": {
       "slide_type": "slide"
      }
     },
     "source": [
      "Testing with Physical Gates"
     ]
    },
    {
     "cell_type": "markdown",
     "metadata": {},
     "source": []
    },
    {
     "cell_type": "heading",
     "level": 1,
     "metadata": {
      "slideshow": {
       "slide_type": "slide"
      }
     },
     "source": [
      "Software Implementation"
     ]
    },
    {
     "cell_type": "markdown",
     "metadata": {},
     "source": [
      "We have developed a flexible and easy-to-use Python library, [**QInfer**](https://github.com/csferrie/python-qinfer), for implementing SMC-based applications."
     ]
    },
    {
     "cell_type": "code",
     "collapsed": false,
     "input": [
      "iframe(\"http://python-qinfer.readthedocs.org/en/latest\")"
     ],
     "language": "python",
     "metadata": {},
     "outputs": [
      {
       "html": [
        "<iframe src=\"http://python-qinfer.readthedocs.org/en/latest\" width=1000 height=400></iframe>"
       ],
       "metadata": {},
       "output_type": "pyout",
       "prompt_number": 9,
       "text": [
        "<IPython.core.display.HTML at 0x25bc8d0>"
       ]
      }
     ],
     "prompt_number": 9
    },
    {
     "cell_type": "heading",
     "level": 1,
     "metadata": {
      "slideshow": {
       "slide_type": "slide"
      }
     },
     "source": [
      "References"
     ]
    },
    {
     "cell_type": "markdown",
     "metadata": {
      "slideshow": {
       "slide_type": "subslide"
      }
     },
     "source": [
      "These references are also available on [Zotero](https://www.zotero.org/cgranade/items/collectionKey/UWFT2XAI)."
     ]
    },
    {
     "cell_type": "code",
     "collapsed": false,
     "input": [
      "# TODO\n",
      "iframe('https://www.zotero.org/cgranade/items/collectionKey/UWFT2XAI')"
     ],
     "language": "python",
     "metadata": {},
     "outputs": [
      {
       "html": [
        "<iframe src=\"https://www.zotero.org/cgranade/items/collectionKey/UWFT2XAI\" width=1000 height=400></iframe>"
       ],
       "metadata": {},
       "output_type": "pyout",
       "prompt_number": 10,
       "text": [
        "<IPython.core.display.HTML at 0x25bc1d0>"
       ]
      }
     ],
     "prompt_number": 10
    },
    {
     "cell_type": "heading",
     "level": 1,
     "metadata": {
      "slideshow": {
       "slide_type": "slide"
      }
     },
     "source": [
      "Thank You"
     ]
    }
   ],
   "metadata": {}
  }
 ]
}