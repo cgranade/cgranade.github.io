{
 "metadata": {
  "name": ""
 },
 "nbformat": 3,
 "nbformat_minor": 0,
 "worksheets": [
  {
   "cells": [
    {
     "cell_type": "heading",
     "level": 1,
     "metadata": {
      "slideshow": {
       "slide_type": "slide"
      }
     },
     "source": [
      "Characterizing and Verifying 100-Qubit Scale Quantum Computers"
     ]
    },
    {
     "cell_type": "heading",
     "level": 2,
     "metadata": {
      "slideshow": {
       "slide_type": "-"
      }
     },
     "source": [
      "Cassandra Granade <br />\n",
      "Institute for Quantum Computing"
     ]
    },
    {
     "cell_type": "heading",
     "level": 3,
     "metadata": {
      "slideshow": {
       "slide_type": "skip"
      }
     },
     "source": [
      "Abstract"
     ]
    },
    {
     "cell_type": "markdown",
     "metadata": {
      "slideshow": {
       "slide_type": "skip"
      }
     },
     "source": [
      "Several challenges stand in the way of developing useful computation at the 100-qubit scale. Current methods for the characterization of large quantum devices, for instance, demand exponentially large resource costs with the number of qubits. Moreover, once a candidate for such small-scale quantum processors is developed, verifying and certifying its dynamics is beyond the scale of what can be achieved using purely classical resources. In this talk, I will argue that both of these problems can be addressed by using classical statistical inference techniques to reduce them to problems of quantum simulation. In particular, I will introduce the classical methods that we build upon, show how quantum simulation and communication can be applied as resources, and will describe experiments in progress that demonstrate the utility of these techniques."
     ]
    },
    {
     "cell_type": "markdown",
     "metadata": {},
     "source": [
      "[https://www.cgranade.com/research/talks/unm-2014](https://www.cgranade.com/research/talks/unm-2014)\n",
      "$\\renewcommand{\\vec}[1]{\\boldsymbol{#1}}$\n",
      "$\\newcommand{\\ket}[1]{\\left|#1\\right\\rangle}$"
     ]
    },
    {
     "cell_type": "markdown",
     "metadata": {},
     "source": [
      "**Joint Work with** Nathan Wiebe, Christopher Ferrie, Ian Hincks, Rahul Deshpande and D. G. Cory"
     ]
    },
    {
     "cell_type": "heading",
     "level": 2,
     "metadata": {
      "slideshow": {
       "slide_type": "skip"
      }
     },
     "source": [
      "Compling and Hosting"
     ]
    },
    {
     "cell_type": "markdown",
     "metadata": {
      "slideshow": {
       "slide_type": "skip"
      }
     },
     "source": [
      "To compile these slides, we use **nbconvert**."
     ]
    },
    {
     "cell_type": "code",
     "collapsed": false,
     "input": [
      "!ipython nbconvert --to slides --template slides.tpl slides.ipynb\n",
      "!mv slides.slides.html slides.html"
     ],
     "language": "python",
     "metadata": {
      "slideshow": {
       "slide_type": "skip"
      }
     },
     "outputs": [
      {
       "output_type": "stream",
       "stream": "stdout",
       "text": [
        "[NbConvertApp] Using existing profile dir: u'/home/cgranade/.config/ipython/profile_default'\r\n"
       ]
      },
      {
       "output_type": "stream",
       "stream": "stdout",
       "text": [
        "[NbConvertApp] Converting notebook slides.ipynb to slides\r\n",
        "[NbConvertApp] Support files will be in slides_files/\r\n"
       ]
      },
      {
       "output_type": "stream",
       "stream": "stdout",
       "text": [
        "[NbConvertApp] Loaded template slides.tpl\r\n"
       ]
      },
      {
       "output_type": "stream",
       "stream": "stdout",
       "text": [
        "[NbConvertApp] Writing 254657 bytes to slides.slides.html\r\n"
       ]
      }
     ],
     "prompt_number": 2
    },
    {
     "cell_type": "markdown",
     "metadata": {
      "slideshow": {
       "slide_type": "skip"
      }
     },
     "source": [
      "If you want to view them in your browser complete with speaker notes, remote control support, etc., then you need to host the slides. The [instructions for Reveal.js](https://github.com/hakimel/reveal.js/#full-setup) include directions for hosting via a library called Grunt. Unfortunately, this doesn't work well with [remot.io](http://remot.io/), as that tool requires that you serve from port 80."
     ]
    },
    {
     "cell_type": "heading",
     "level": 2,
     "metadata": {
      "slideshow": {
       "slide_type": "skip"
      }
     },
     "source": [
      "Configuration"
     ]
    },
    {
     "cell_type": "markdown",
     "metadata": {
      "slideshow": {
       "slide_type": "skip"
      }
     },
     "source": [
      "Since we're going to display some ``<iframe>``s in this talk, we'll need to import the display functionality from IPython and write a small function. These have no part in the talk itself, so we mark these cells as *Skip* in the Cell Toolbar."
     ]
    },
    {
     "cell_type": "code",
     "collapsed": false,
     "input": [
      "from IPython.display import HTML, YouTubeVideo"
     ],
     "language": "python",
     "metadata": {
      "slideshow": {
       "slide_type": "skip"
      }
     },
     "outputs": [],
     "prompt_number": 6
    },
    {
     "cell_type": "code",
     "collapsed": false,
     "input": [
      "def iframe(src):\n",
      "    return HTML('<iframe src=\"{}\" width=1000 height=400></iframe>'.format(src))"
     ],
     "language": "python",
     "metadata": {
      "slideshow": {
       "slide_type": "skip"
      }
     },
     "outputs": [],
     "prompt_number": 7
    },
    {
     "cell_type": "heading",
     "level": 1,
     "metadata": {
      "slideshow": {
       "slide_type": "slide"
      }
     },
     "source": [
      "Quantum Computing at the 100 Qubit Scale"
     ]
    },
    {
     "cell_type": "markdown",
     "metadata": {},
     "source": [
      "In order for quantum computing to be useful, we need to be able to **build**, **characterize** and **verify** quantum devices at scales well past current techniques.\n",
      "\n",
      "In this talk, I will focus on learning the Hamiltonian dynamics of large quantum systems, at scales approaching 100 qubits."
     ]
    },
    {
     "cell_type": "heading",
     "level": 2,
     "metadata": {
      "slideshow": {
       "slide_type": "fragment"
      }
     },
     "source": [
      "What do we need?"
     ]
    },
    {
     "cell_type": "heading",
     "level": 3,
     "metadata": {
      "slideshow": {
       "slide_type": "subslide"
      }
     },
     "source": [
      "Characterization algorithms must be *efficient*."
     ]
    },
    {
     "cell_type": "markdown",
     "metadata": {},
     "source": [
      "- As we approach 100 qubits, the costs of characterization become more important.\n",
      "- Must be able to characterize with modest numbers of measurements and computational resources."
     ]
    },
    {
     "cell_type": "heading",
     "level": 3,
     "metadata": {
      "slideshow": {
       "slide_type": "subslide"
      }
     },
     "source": [
      "Characterization must use prior information."
     ]
    },
    {
     "cell_type": "markdown",
     "metadata": {},
     "source": [
      "- Exponentially many parameters are needed to describe the dynamics of a quantum system in full generality.\n",
      "- Prior information about the *form* of the dynamics must be used to restrict the number of parameters that must be learned.\n",
      "- [HW12] show that adaptivity on prior information can be necessary for obtaining optimal error scaling."
     ]
    },
    {
     "cell_type": "heading",
     "level": 3,
     "metadata": {
      "slideshow": {
       "slide_type": "subslide"
      }
     },
     "source": [
      "Algorithms must serve experimental concerns."
     ]
    },
    {
     "cell_type": "markdown",
     "metadata": {},
     "source": [
      "- Characterization must include experimental noise and effects, or else it will not be useful in practice.\n",
      "- No experiment is described by a Hamiltonian alone.\n",
      "- Experimental description also includes a description of how control, preparation and readout are implemented.\n",
      "- Adaptive characterization algorithms must integrate with experimental control systems in order for adaptiveness to be useful."
     ]
    },
    {
     "cell_type": "heading",
     "level": 3,
     "metadata": {
      "slideshow": {
       "slide_type": "subslide"
      }
     },
     "source": [
      "Algorithms must be generic."
     ]
    },
    {
     "cell_type": "markdown",
     "metadata": {},
     "source": [
      "- Not clear yet which modalities will be most useful.\n",
      "- Not clear what the most interesting applications will be.\n",
      "- Algorithms must be generic enough to be applicable to a wide range of systems and applications."
     ]
    },
    {
     "cell_type": "heading",
     "level": 3,
     "metadata": {
      "slideshow": {
       "slide_type": "subslide"
      }
     },
     "source": [
      "Characterization must be robust."
     ]
    },
    {
     "cell_type": "markdown",
     "metadata": {},
     "source": [
      "- In addition to experimental noise, characterization algorithms must be robust to simulation and numerical errors.\n",
      "- Useful conclusions must be reached with the use of physically realistic resources."
     ]
    },
    {
     "cell_type": "heading",
     "level": 3,
     "metadata": {
      "slideshow": {
       "slide_type": "subslide"
      }
     },
     "source": [
      "Characterization must enable verification."
     ]
    },
    {
     "cell_type": "markdown",
     "metadata": {},
     "source": [
      "- Once we are able to build a 100-qubit scale device, we must be able to assert that it works as intended.\n",
      "- Especially difficult given the limits of our ability to classically simulate the dynamics of large quantum systems."
     ]
    },
    {
     "cell_type": "heading",
     "level": 1,
     "metadata": {
      "slideshow": {
       "slide_type": "slide"
      }
     },
     "source": [
      "Characterization Algorithms"
     ]
    },
    {
     "cell_type": "markdown",
     "metadata": {},
     "source": [
      "The characterization of quantum systems is a rich field.\n",
      "\n",
      "We start by reviewing a few approaches, their advantages, and what prevents them from being applicable at the 100-qubit scale."
     ]
    },
    {
     "cell_type": "heading",
     "level": 2,
     "metadata": {
      "slideshow": {
       "slide_type": "subslide"
      }
     },
     "source": [
      "Traditional Tomography"
     ]
    },
    {
     "cell_type": "markdown",
     "metadata": {},
     "source": [
      "State and process tomography can be used iteratively to probe Hamiltonian dynamics.\n",
      "\n",
      "- Few assumptions required.\n",
      "- Requires exponentially many parameters in the size of the system.\n",
      "- Reconstruction of $H$ from $e^{-i H t}$ need not be efficient or numerically stable."
     ]
    },
    {
     "cell_type": "heading",
     "level": 2,
     "metadata": {
      "slideshow": {
       "slide_type": "subslide"
      }
     },
     "source": [
      "Robust Lindblad Estimation"
     ]
    },
    {
     "cell_type": "markdown",
     "metadata": {},
     "source": [
      "- Uses quantum dynamical semigroup assumption to considerably reduce model dimension.\n",
      "- Still exponentially many parameters.\n",
      "\n",
      "<cite data-cite=\"bh+03\">[BH+03]</cite>"
     ]
    },
    {
     "cell_type": "heading",
     "level": 2,
     "metadata": {
      "slideshow": {
       "slide_type": "subslide"
      }
     },
     "source": [
      "Randomized Benchmarking"
     ]
    },
    {
     "cell_type": "markdown",
     "metadata": {},
     "source": [
      "- Efficiently extracts information about the fidelity of a gate.\n",
      "- Separates gate fidelity from SPAM errors.\n",
      "- Only produces estimate of the fidelity; does not produce a full characterization.\n",
      "\n",
      "<cite data-cite=\"mge12\">[MGE12]</cite>"
     ]
    },
    {
     "cell_type": "heading",
     "level": 2,
     "metadata": {
      "slideshow": {
       "slide_type": "subslide"
      }
     },
     "source": [
      "Gate Set Tomography"
     ]
    },
    {
     "cell_type": "markdown",
     "metadata": {},
     "source": [
      "- Requires less assumptions (no need to know input state or measurement).\n",
      "- Assumptions can be relaxed further, at added expense.\n",
      "- Provides rigorous separation between model and data.\n",
      "- In general, can be *more* expensive than traditional tomography.\n",
      "\n",
      "<cite data-cite=\"bg13\">[BG+13]</cite>"
     ]
    },
    {
     "cell_type": "heading",
     "level": 2,
     "metadata": {
      "slideshow": {
       "slide_type": "subslide"
      }
     },
     "source": [
      "Local Hamiltonian Learning by Short-Time Evolution"
     ]
    },
    {
     "cell_type": "markdown",
     "metadata": {},
     "source": [
      "- Uses locality assumption together with Lieb-Robinson bounds to guarantee scaling of errors and exponentially reduce the number of parameters.\n",
      "- Requires numerically unstable matrix inversion.\n",
      "- Information content of short-time measurements is bounded by the Fisher information, $I \\in O(t^2)$.\n",
      "- Short-time evolution thus requires exponentially many measurements.\n",
      "\n",
      "<cite data-cite=\"dslp11\">[dSLP11]</cite>"
     ]
    },
    {
     "cell_type": "heading",
     "level": 1,
     "metadata": {
      "slideshow": {
       "slide_type": "slide"
      }
     },
     "source": [
      "Simulation and Characterization"
     ]
    },
    {
     "cell_type": "markdown",
     "metadata": {},
     "source": [
      "We can build upon these techniques by exploiting a key insight from Bayesian inference: **simulation is a resource for characterization**."
     ]
    },
    {
     "cell_type": "markdown",
     "metadata": {},
     "source": [
      "To see this, suppose that we have a probability $\\Pr(d | H)$ of obtaining data $d$ from a system whose Hamiltonian is $H$. Then, by Bayes' rule,"
     ]
    },
    {
     "cell_type": "markdown",
     "metadata": {
      "slideshow": {
       "slide_type": "fragment"
      }
     },
     "source": [
      "$$\n",
      "    \\Pr(H | d) = \\frac{\\Pr(d | H)}{\\Pr(d)} \\Pr(H).\n",
      "$$"
     ]
    },
    {
     "cell_type": "markdown",
     "metadata": {
      "slideshow": {
       "slide_type": "fragment"
      }
     },
     "source": [
      "By **simulating** according to $H$, we can find a probability distribution $\\Pr(H | d)$ over the possible Hamiltonians of a system of interest, given experimental knowledge."
     ]
    },
    {
     "cell_type": "heading",
     "level": 2,
     "metadata": {
      "slideshow": {
       "slide_type": "subslide"
      }
     },
     "source": [
      "A Way Forward to 100-Qubit Scale Characterization"
     ]
    },
    {
     "cell_type": "markdown",
     "metadata": {},
     "source": [
      "This is very powerful, as it allows us to bring our best simulation resources to bear on the problem of characterizing large quantum systems.\n",
      "\n",
      "Importantly, $\\Pr(d | H)$ need not be a *classical* simulation, but can be implemented using *quantum* resources. This will then enable us to use a known quantum system as a tool to **verify** the dynamics of a system under study."
     ]
    },
    {
     "cell_type": "heading",
     "level": 1,
     "metadata": {
      "slideshow": {
       "slide_type": "slide"
      }
     },
     "source": [
      "Outline"
     ]
    },
    {
     "cell_type": "markdown",
     "metadata": {},
     "source": [
      "In the rest of this talk, I will describe:\n",
      "\n",
      "- An algorithm that uses classical simulation to characterize quantum systems,\n",
      "- How this algorithm can be extended to use quantum resources,\n",
      "- The robustness of our algorithm, and\n",
      "- An example of an experiment that demonstrates the utility of our approach."
     ]
    },
    {
     "cell_type": "heading",
     "level": 1,
     "metadata": {
      "slideshow": {
       "slide_type": "slide"
      }
     },
     "source": [
      "Characterization with Classical Resources"
     ]
    },
    {
     "cell_type": "heading",
     "level": 2,
     "metadata": {
      "slideshow": {
       "slide_type": "subslide"
      }
     },
     "source": [
      "Quantum Characterization as Parameter Estimation"
     ]
    },
    {
     "cell_type": "markdown",
     "metadata": {},
     "source": [
      "To build our approach, we express the problem of characterizing quantum systems as one of *parameter estimation*. Thus, instead of reasoning directly about the Hamiltonian $H$, we consider a parameterization $\\vec{x}$ such that $H = H(\\vec{x})$. This offers two distinct advantages:"
     ]
    },
    {
     "cell_type": "heading",
     "level": 3,
     "metadata": {
      "slideshow": {
       "slide_type": "subslide"
      }
     },
     "source": [
      "Dimension Reduction"
     ]
    },
    {
     "cell_type": "markdown",
     "metadata": {},
     "source": [
      "The dimension of $\\vec{x}$ can be substantially smaller than that of $H$ by restricting the parameterization to a specific *model*."
     ]
    },
    {
     "cell_type": "markdown",
     "metadata": {
      "slideshow": {
       "slide_type": "fragment"
      }
     },
     "source": [
      "For example, if we know that the system follows an Ising model:\n",
      "\n",
      "$$\n",
      "    H = \\sum_{\\langle i, j \\rangle} J_{i,j} \\sigma_z^{(i)} \\sigma_z^{(j)} \\\\\n",
      "    \\vec{x} = \\left(J_{i,j}\\right)_{\\langle i, j \\rangle} \\\\\n",
      "    \\dim \\vec{x} = {n \\choose 2} \\ll \\dim \\mathcal{H} = 4^n\n",
      "$$"
     ]
    },
    {
     "cell_type": "heading",
     "level": 3,
     "metadata": {
      "slideshow": {
       "slide_type": "subslide"
      }
     },
     "source": [
      "Experimental Relevance"
     ]
    },
    {
     "cell_type": "markdown",
     "metadata": {},
     "source": [
      "We can also include in $\\vec{x}$ not just Hamiltonian parameters, but also parameters describing the details of a particular implementation.\n",
      "\n",
      "For example:\n",
      "\n",
      "- $T_2$\n",
      "- Visibility of measurements\n",
      "- Polarization of initial states\n",
      "- Uncertainty in applied control"
     ]
    },
    {
     "cell_type": "heading",
     "level": 2,
     "metadata": {
      "slideshow": {
       "slide_type": "subslide"
      }
     },
     "source": [
      "Example: Hyperfine Couplings in NV Centers"
     ]
    },
    {
     "cell_type": "markdown",
     "metadata": {},
     "source": [
      "![](files/figures/nv-lattice-small.jpg)\n",
      "\n",
      "*Image courtesy of Ian Hincks.*"
     ]
    },
    {
     "cell_type": "markdown",
     "metadata": {
      "slideshow": {
       "slide_type": "subslide"
      }
     },
     "source": [
      "In NV centers, the electron spin degree of freedom $\\vec{S}$ couples to a ${}^{13}\\text{C}$ spin $\\vec{I}$ by a hyperfine interaction, such that"
     ]
    },
    {
     "cell_type": "markdown",
     "metadata": {},
     "source": [
      "$$\n",
      "    H = \\Delta_{\\text{zfs}} S_z^2 + \\gamma_e \\vec{B} \\cdot \\vec{S} + \\gamma_C \\vec{B} \\cdot \\vec{I} + \\vec{S} \\cdot \\mathbf{A} \\cdot \\vec{I},\n",
      "$$"
     ]
    },
    {
     "cell_type": "markdown",
     "metadata": {},
     "source": [
      "where $\\vec{B}$ is the magnetic field, and where $\\Delta_{\\text{zfs}}$ is the zero-field splitting."
     ]
    },
    {
     "cell_type": "markdown",
     "metadata": {
      "slideshow": {
       "slide_type": "subslide"
      }
     },
     "source": [
      "Let $\\vec{B} = \\vec{B}_0 + \\delta \\vec{B}$, where $\\delta \\vec{B}$ is an unknown error in setting the magnetic field. Moreover, choose the coordinate system such that\n",
      "$$\n",
      "    \\mathbf{A} = \\left( \\begin{matrix}\n",
      "        A_{xx} & 0 & A_{xz} \\\\\n",
      "        0 & A_{yy} & 0 \\\\\n",
      "        A_{xz} & 0 & A_{zz}\n",
      "    \\end{matrix} \\right)\n",
      "$$ contributes four real parameters. "
     ]
    },
    {
     "cell_type": "markdown",
     "metadata": {},
     "source": [
      "- Given an evolution time $\\tau$ and a field setting $\\vec{B}_0$, the data generated by the Ramsey experiments can then be described using parameters $\\vec{x} = (\\delta \\vec{B}, \\mathbf{A}, \\alpha, \\beta, T_{2,c}^{-1}, T_{2,e}^{-1})$, where $\\alpha$ and $\\beta$ describe the visibility of the single-shot readout."
     ]
    },
    {
     "cell_type": "markdown",
     "metadata": {
      "slideshow": {
       "slide_type": "fragment"
      }
     },
     "source": [
      "- By writing as likelihood, we can include experimental effects ($T_2$, $\\alpha$, $\\beta$, $\\delta \\vec{B}$) as additional parameters."
     ]
    },
    {
     "cell_type": "heading",
     "level": 2,
     "metadata": {
      "slideshow": {
       "slide_type": "subslide"
      }
     },
     "source": [
      "A Bayesian Approach to Parameter Estimation"
     ]
    },
    {
     "cell_type": "markdown",
     "metadata": {},
     "source": [
      "Having adopted a parameterization $\\vec{x}$, at any point, we can describe our *knowledge* of $\\vec{x}$ by a probability distribution $\\Pr(\\vec{x})$.\n",
      "\n",
      "We can learn the value of these parameters that best explains our data by using Bayes' rule to *update* our knowledge about $\\vec{x}$, finding a new distribution $\\Pr(\\vec{x} | D)$ for a data record $D = \\{d_1, d_2, \\dots, d_N\\}$.\n",
      "\n",
      "$$\n",
      "    \\Pr(\\vec{x} | d_1, \\dots, d_N) = \\frac{\\Pr(d_N | \\vec{x})}{\\Pr(d_N)} \\Pr(\\vec{x} | d_1, \\dots, d_{N - 1}).\n",
      "$$\n"
     ]
    },
    {
     "cell_type": "markdown",
     "metadata": {
      "slideshow": {
       "slide_type": "fragment"
      }
     },
     "source": [
      "In this way, we see that Bayes rule suggests an *iterative* algorithm, in which we set the prior distribution $\\Pr(\\vec{x})$ at each step to be the posterior distribution $\\Pr(\\vec{x} | d_i)$ from the previous step."
     ]
    },
    {
     "cell_type": "heading",
     "level": 2,
     "metadata": {
      "slideshow": {
       "slide_type": "subslide"
      }
     },
     "source": [
      "Sequential Monte Carlo"
     ]
    },
    {
     "cell_type": "markdown",
     "metadata": {},
     "source": [
      "The Sequential Monte Carlo (SMC) algorithm from classical statistics allows us to find and sample from the final posterior distribution $\\Pr(\\vec{x} | D)$ on a classical computer by representing the Bayesian update $\\Pr(\\vec{x} | d_1, \\dots, d_i) \\mapsto \\Pr(\\vec{x} | d_1, \\dots, d_{i+1})$  as a Markov chain acting on a set of hypotheses drawn from the initial prior."
     ]
    },
    {
     "cell_type": "markdown",
     "metadata": {
      "slideshow": {
       "slide_type": "fragment"
      }
     },
     "source": [
      "In SMC, we approximate the distribution at each step by a mixture of $n_p$ $\\delta$-distributions:\n",
      "$$\n",
      "    \\Pr(\\vec{x}) = \\sum_{i = 1}^{n_p} w_i \\delta(\\vec{x} - \\vec{x}_i).\n",
      "$$"
     ]
    },
    {
     "cell_type": "markdown",
     "metadata": {
      "slideshow": {
       "slide_type": "fragment"
      }
     },
     "source": [
      "The Bayes update can then be expressed as a finite number of simulations,\n",
      "$$\n",
      "    w_i \\mapsto w_i \\Pr(d | \\vec{x}_i) / \\mathcal{N},\n",
      "$$\n",
      "where $\\mathcal{N}$ can be found by normalization."
     ]
    },
    {
     "cell_type": "markdown",
     "metadata": {
      "slideshow": {
       "slide_type": "fragment"
      }
     },
     "source": [
      "- Explored in detail in <cite data-cite=\"gfwc12\">[**G**FWC12]</cite>."
     ]
    },
    {
     "cell_type": "heading",
     "level": 3,
     "metadata": {
      "slideshow": {
       "slide_type": "subslide"
      }
     },
     "source": [
      "Posterior Distributions for NV Example"
     ]
    },
    {
     "cell_type": "code",
     "collapsed": false,
     "input": [
      "YouTubeVideo('AFsoG9N6gbk', rel=0, showinfo=0)"
     ],
     "language": "python",
     "metadata": {},
     "outputs": [
      {
       "html": [
        "\n",
        "        <iframe\n",
        "            width=\"400\"\n",
        "            height=300\"\n",
        "            src=\"http://www.youtube.com/embed/AFsoG9N6gbk?showinfo=0&rel=0\"\n",
        "            frameborder=\"0\"\n",
        "            allowfullscreen\n",
        "        ></iframe>\n",
        "        "
       ],
       "metadata": {},
       "output_type": "pyout",
       "prompt_number": 8,
       "text": [
        "<IPython.lib.display.YouTubeVideo at 0x26dea90>"
       ]
      }
     ],
     "prompt_number": 8
    },
    {
     "cell_type": "heading",
     "level": 1,
     "metadata": {
      "slideshow": {
       "slide_type": "slide"
      }
     },
     "source": [
      "Characterization with Quantum Resources"
     ]
    },
    {
     "cell_type": "markdown",
     "metadata": {},
     "source": [
      "Given that SMC uses simulation as a resource, it follows that we can exploit *quantum* simulation as a resource to characterize quantum systems. Thus, instead of computing $\\Pr(d | \\vec{x})$ using a classical computer, we can sample a quantum simulator for $H(\\vec{x})$.\n",
      "\n",
      "- Described in detail in [W**G**+13a]."
     ]
    },
    {
     "cell_type": "heading",
     "level": 2,
     "metadata": {
      "slideshow": {
       "slide_type": "slide"
      }
     },
     "source": [
      "Quantum Likelihood Estimation"
     ]
    },
    {
     "cell_type": "markdown",
     "metadata": {},
     "source": [
      "To learn $H(\\vec{x})$, we use the two-outcome likelihood function\n",
      "$$\n",
      "    \\Pr(0 | \\vec{x}; t) = \\left|\\left\\langle\\psi | e^{-i H(\\vec{x}) t} | \\psi \\right\\rangle\\right|^2\n",
      "$$\n",
      "for some state $\\ket{\\psi}$.\n",
      "\n",
      "- The initial state need not be chosen intelligently. Depending on $H$, pseudorandom separable states will do."
     ]
    },
    {
     "cell_type": "markdown",
     "metadata": {},
     "source": [
      "The first step is to replace the evaluation of $\\Pr(d | \\vec{x}_i)$ with a quantum simulator.\n",
      "\n",
      "- Quantum simulators under projective measurement produce *samples*, not *likelihoods*.\n",
      "- Need to use a *likelihood-free* algorithm to employ quantum simulation [F**G**13]."
     ]
    },
    {
     "cell_type": "markdown",
     "metadata": {
      "slideshow": {
       "slide_type": "subslide"
      }
     },
     "source": [
      "- Treat $p_i = \\Pr(d | \\vec{x}_i)$ as a parameter to be estimated.\n",
      "- Draw samples $D'_i$ from $\\Pr(d | \\vec{x}_i)$ using quantum resources.\n",
      "- Estimate $p_i$ by using maximum likelihood estimation.\n",
      "\n",
      "$$\n",
      "    \\hat{p}_{i,\\text{MLE}} := \\frac{|\\{d' \\in D'_i : d' = d\\}|}{|D'_i|}\n",
      "$$\n",
      "\n",
      "Essentially, we are comparing *classical* outcomes of measurements on an unknown and trusted quantum system."
     ]
    },
    {
     "cell_type": "markdown",
     "metadata": {
      "slideshow": {
       "slide_type": "subslide"
      }
     },
     "source": [
      "- Finite error in resulting estimate:\n",
      "\n",
      "$$\n",
      "    \\hat{p}_{i, \\text{MLE}} = p_i + \\eta\n",
      "$$\n",
      "\n",
      "- Accuracy of $\\eta$ requires $O(\\eta^{-2})$ samples, such that we can't efficiently resolve exponentially small gaps."
     ]
    },
    {
     "cell_type": "heading",
     "level": 3,
     "metadata": {
      "slideshow": {
       "slide_type": "subslide"
      }
     },
     "source": [
      "Learning Ising Couplings with QLE"
     ]
    },
    {
     "cell_type": "markdown",
     "metadata": {},
     "source": [
      "- To reason about performance, we classically simulate QLE.\n",
      "- This limits what Hamiltonian models we can study.\n",
      "- Also limits scope of testing.\n",
      "- Ising model serves as a good test bed, both in nearest-neighbor and complete interaction graphs."
     ]
    },
    {
     "cell_type": "markdown",
     "metadata": {
      "slideshow": {
       "slide_type": "subslide"
      }
     },
     "source": [
      "- Using no more than 20,000 particles, we can learn well in chains of as many as $n = 12$ qubits.\n",
      "\n",
      "![](files/figures/QLElineplots.svg)"
     ]
    },
    {
     "cell_type": "heading",
     "level": 3,
     "metadata": {
      "slideshow": {
       "slide_type": "subslide"
      }
     },
     "source": [
      "Limitations of QLE"
     ]
    },
    {
     "cell_type": "markdown",
     "metadata": {},
     "source": [
      "- Using a quantum simulator reduces the simulation cost, but\n",
      "- For random Hamiltonians, there exists equilibration time $t_{\\text{eq}}$ such that for $t \\ge t_{\\text{eq}}$, $\\Pr(0 | \\vec{x}; t) \\approx 1 / \\dim \\mathcal{H}$.\n",
      "- Thus, must choose $t \\le t_{\\text{eq}}$ to be informative."
     ]
    },
    {
     "cell_type": "markdown",
     "metadata": {
      "slideshow": {
       "slide_type": "fragment"
      }
     },
     "source": [
      "- By the Cramer-Rao bound, this limits the information each measurement can extract about $H$ to a constant."
     ]
    },
    {
     "cell_type": "heading",
     "level": 1,
     "metadata": {
      "slideshow": {
       "slide_type": "slide"
      }
     },
     "source": [
      "Inverting Evolution with a Trusted Quantum Simulator"
     ]
    },
    {
     "cell_type": "markdown",
     "metadata": {
      "slideshow": {
       "slide_type": "-"
      }
     },
     "source": [
      "In addition to applying quantum simulation as a resource for estimating likelihoods, we can also use quantum simulation to give us additional experimental controls and to extend the evolution times which we can use to learn.\n",
      "\n",
      "We do so by *coupling* a trusted simulator to the system under study, so that we can invert the evolution by a *hypothesis* about the system under study."
     ]
    },
    {
     "cell_type": "markdown",
     "metadata": {
      "slideshow": {
       "slide_type": "subslide"
      }
     },
     "source": [
      "The experimental data $d$ is drawn by coupling the two systems.\n",
      "\n",
      "![](files/figures/iqle_annotate.svg)\n",
      "\n",
      "For each hypothesis, a simulation record $D'_i$ is drawn on the trusted system alone."
     ]
    },
    {
     "cell_type": "markdown",
     "metadata": {
      "slideshow": {
       "slide_type": "subslide"
      }
     },
     "source": [
      "Let's consider a **single-qubit** example,\n",
      "$$\n",
      "    H(\\omega) = \\frac{\\omega}{2}\\sigma_z.\n",
      "$$\n",
      "Suppose we invert by $H(\\omega_-)$ for some $\\omega_-$ that we get to choose.\n",
      "\n",
      "The likelihood for this experiment is then\n",
      "$$\n",
      "    \\Pr(0 | \\omega; \\omega_-, t) = \\cos^2([\\omega - \\omega_-] t / 2).\n",
      "$$\n",
      "\n",
      "- When $\\omega_- \\approx \\omega$, the likelihood is near unity.\n",
      "- We use this *echo* to discriminate between accurate and inaccurate hypotheses.\n",
      "\n",
      "This is especially important when there are many parameters, so that we have enough experimental controls to test our hypothesis about the system of interest."
     ]
    },
    {
     "cell_type": "heading",
     "level": 2,
     "metadata": {
      "slideshow": {
       "slide_type": "subslide"
      }
     },
     "source": [
      "Particle Guess Heuristic"
     ]
    },
    {
     "cell_type": "markdown",
     "metadata": {},
     "source": [
      "- We want $\\|H(\\vec{x}) - H(\\vec{x}_-)\\| t$ to be approximately constant so that the Loshmidt echo remains broad as $t$ grows.\n",
      "\n",
      "To do this:\n",
      "\n",
      "- Draw $\\vec{x}$ and $\\vec{x}'$ from the current posterior.\n",
      "- Let $\\vec{x}_- = \\vec{x}$.\n",
      "- Let $t = 1 / \\|H(\\vec{x}) - H(\\vec{x}_-)\\|$.\n",
      "\n",
      "This heuristic requires **no** simulation, but adapts to the current uncertainty about $H$."
     ]
    },
    {
     "cell_type": "heading",
     "level": 2,
     "metadata": {
      "slideshow": {
       "slide_type": "subslide"
      }
     },
     "source": [
      "Scaling of IQLE"
     ]
    },
    {
     "cell_type": "markdown",
     "metadata": {},
     "source": [
      "- We cannot directly test 100-qubit performance of IQLE, as we don't have a quantum simulator of that scale.\n",
      "- Instead, we look at *scaling* with increasing number of parameters.\n",
      "- Figure of merit: median over *trials* of an exponential fit to the decay in estimation error."
     ]
    },
    {
     "cell_type": "markdown",
     "metadata": {
      "slideshow": {
       "slide_type": "subslide"
      }
     },
     "source": [
      "![](files/figures/exp_scale.svg)"
     ]
    },
    {
     "cell_type": "markdown",
     "metadata": {},
     "source": [
      "- Data does not show evidence of exponential slowdown in learning with parameter count."
     ]
    },
    {
     "cell_type": "heading",
     "level": 3,
     "metadata": {
      "slideshow": {
       "slide_type": "subslide"
      }
     },
     "source": [
      "Why Number of Parameters?"
     ]
    },
    {
     "cell_type": "markdown",
     "metadata": {},
     "source": [
      "- We plot versus number of parameters $|\\vec{x}|$, rather than Hilbert space dimension $\\dim \\mathcal{H}$.\n",
      "- Number of experiments required is nearly independent of $\\dim\\mathcal{H}$.\n",
      "- Consider case where one parameter is much less certain than others; effective one-parameter model.\n",
      "\n",
      "![](files/figures/corner.svg)\n",
      "\n",
      "- As learning catches up ($N\\approx 60$), model dimension increases from 1 to $n \\choose 2$, and learning rates diverge."
     ]
    },
    {
     "cell_type": "heading",
     "level": 1,
     "metadata": {
      "slideshow": {
       "slide_type": "slide"
      }
     },
     "source": [
      "Robustness of SMC and QLE"
     ]
    },
    {
     "cell_type": "markdown",
     "metadata": {},
     "source": [
      "We test how robust SMC, QLE and IQLE are to errors in three distinct ways:\n",
      "\n",
      "- Imperfect coupling between untrusted, trusted simulators.\n",
      "- Error in likelihood evaluation.\n",
      "- Systemic error in simulated models.\n",
      "\n",
      "Additionally, we show that IQLE continues to work well with non-commuting models.\n",
      "\n",
      "- Described in detail in [W**G**+13b]."
     ]
    },
    {
     "cell_type": "heading",
     "level": 2,
     "metadata": {
      "slideshow": {
       "slide_type": "subslide"
      }
     },
     "source": [
      "Effects of Noise in SWAP Gates"
     ]
    },
    {
     "cell_type": "markdown",
     "metadata": {},
     "source": [
      "We test the robustness of IQLE to errors in the SWAP gates by adding depolarizing noise of strength $\\mathcal{N}$."
     ]
    },
    {
     "cell_type": "markdown",
     "metadata": {},
     "source": [
      "![](files/figures/tpnoise.svg)"
     ]
    },
    {
     "cell_type": "markdown",
     "metadata": {},
     "source": [
      "- Learning rate depends on noise, but still exponential.\n",
      "- Need characterization of SWAP gate errors."
     ]
    },
    {
     "cell_type": "heading",
     "level": 2,
     "metadata": {
      "slideshow": {
       "slide_type": "subslide"
      }
     },
     "source": [
      "Sensitivity to Likelihood Evaluation Errors"
     ]
    },
    {
     "cell_type": "markdown",
     "metadata": {},
     "source": [
      "Next, we consider the performance of SMC when the likelihood function being used is itself an estimate of the true likelihood function,"
     ]
    },
    {
     "cell_type": "markdown",
     "metadata": {},
     "source": [
      "$$\n",
      "    \\widehat{\\Pr}(D | \\vec{x}; \\vec{e}) = \\Pr(D | \\vec{x}; \\vec{e}) + \\eta,\n",
      "$$"
     ]
    },
    {
     "cell_type": "markdown",
     "metadata": {},
     "source": [
      "where $\\eta \\sim \\mathcal{N}(0, \\sigma^2)$ is an error introduced into the simulation.\n",
      "\n",
      "- Model for finite error introduced by likelihood-free methods."
     ]
    },
    {
     "cell_type": "heading",
     "level": 2,
     "metadata": {
      "slideshow": {
       "slide_type": "subslide"
      }
     },
     "source": [
      "Numerical Testing of Likelihood Errors"
     ]
    },
    {
     "cell_type": "markdown",
     "metadata": {},
     "source": [
      "- We can numerically add errors to a perfect simulator.\n",
      "- SMC continues to learn even with significantly simulation errors ($\\mathcal{P} = 10\\%$).\n",
      "- Note that the exponential learning is preserved, albeit with a smaller slope."
     ]
    },
    {
     "cell_type": "markdown",
     "metadata": {},
     "source": [
      "![](files/figures/poison.svg)"
     ]
    },
    {
     "cell_type": "markdown",
     "metadata": {
      "slideshow": {
       "slide_type": "fragment"
      }
     },
     "source": [
      "- IQLE is less sensitive to likelihood evaluation errors than QLE."
     ]
    },
    {
     "cell_type": "heading",
     "level": 2,
     "metadata": {
      "slideshow": {
       "slide_type": "subslide"
      }
     },
     "source": [
      "Analytic Bounds"
     ]
    },
    {
     "cell_type": "markdown",
     "metadata": {
      "slideshow": {
       "slide_type": "-"
      }
     },
     "source": [
      "More formally, we have shown analytically that the cost of performing a QLE or IQLE update scales as\n",
      "$$\n",
      "\\frac{|\\{\\vec{x}_i\\}|}{\\epsilon^2}\\left(\\mathbb{E}_{d|\\vec{x}}\\left[\\frac{\\max_k \\Pr(d|\\vec{x}_k)(1-\\Pr(d|\\vec{x}_k))}{\\left( {\\sum_k \\Pr(d|\\vec{x}_k)\\Pr(\\vec{x}_k)}\\right)^2}\\right]\\right)\n",
      "$$\n",
      "for an error $\\epsilon$ in the posterior probability.\n",
      "\n",
      "- Note that updates of a fixed accuracy are more expensive for *flat* likelihoods."
     ]
    },
    {
     "cell_type": "heading",
     "level": 2,
     "metadata": {
      "slideshow": {
       "slide_type": "subslide"
      }
     },
     "source": [
      "Systemic Errors in Likelihood Functions"
     ]
    },
    {
     "cell_type": "markdown",
     "metadata": {
      "slideshow": {
       "slide_type": "-"
      }
     },
     "source": [
      "- What if we use the wrong likelihood function to update?"
     ]
    },
    {
     "cell_type": "markdown",
     "metadata": {},
     "source": [
      "![](files/figures/badmodel.svg)"
     ]
    },
    {
     "cell_type": "markdown",
     "metadata": {},
     "source": [
      "- Neglected terms of order $10^{-4}$.\n",
      "- Learning proceeds to limit of systemic error (quadratic loss of $10^{-8}$)."
     ]
    },
    {
     "cell_type": "heading",
     "level": 3,
     "metadata": {
      "slideshow": {
       "slide_type": "subslide"
      }
     },
     "source": [
      "Model Selection"
     ]
    },
    {
     "cell_type": "markdown",
     "metadata": {},
     "source": [
      "In this case, we can gain some benefit by using *model selection* to decide if we have included enough parameters to describe the full dynamics.\n",
      "\n",
      "- Compare the normalization factors $\\Pr(D) = \\prod_i^N\\Pr(d_i)$ for each of a range of models and accept the one with the highest normalization."
     ]
    },
    {
     "cell_type": "markdown",
     "metadata": {
      "slideshow": {
       "slide_type": "subslide"
      }
     },
     "source": [
      "- Log of ratio of $\\Pr(D | \\text{complete})$ to $\\Pr(D | \\text{nearest-neighbor})$ when actual model is complete grows linearly.\n",
      "\n",
      "![](files/figures/modelselect_completetrue.svg)\n",
      "\n",
      "- True model is *exponentially* more likely as we collect data, allowing us to notice neglected couplings."
     ]
    },
    {
     "cell_type": "heading",
     "level": 2,
     "metadata": {
      "slideshow": {
       "slide_type": "subslide"
      }
     },
     "source": [
      "IQLE and Non-Commuting Hamiltonians"
     ]
    },
    {
     "cell_type": "markdown",
     "metadata": {},
     "source": [
      "Consider the translationally-invariant two-parameter Hamiltonian\n",
      "$$\n",
      "    H(\\vec{x}) = \\vec{x}_1\\sum_{k=1}^n \\sigma_x^{(k)} + \\vec{x}_2\\sum_{k=1}^{n-1}  \\sigma_z^{(k)} \\otimes \\sigma_z^{(k+1)}.\n",
      "$$\n",
      "\n",
      "With IQLE, we can still get exponential learning by choosing pseudorandom separable input states:\n",
      "\n",
      "![](files/figures/noncommute2d.svg)"
     ]
    },
    {
     "cell_type": "heading",
     "level": 1,
     "metadata": {
      "slideshow": {
       "slide_type": "slide"
      }
     },
     "source": [
      "Quantum Hamiltonian Learning in Crotonic Acid"
     ]
    },
    {
     "cell_type": "markdown",
     "metadata": {},
     "source": [
      "In addition to classically simulating quantum simulators, we want to be able to show **experimental** evidence to verify our methods."
     ]
    },
    {
     "cell_type": "markdown",
     "metadata": {},
     "source": [
      "- This is work in progress."
     ]
    },
    {
     "cell_type": "heading",
     "level": 2,
     "metadata": {
      "slideshow": {
       "slide_type": "subslide"
      }
     },
     "source": [
      "Liquid State NMR and Crotonic Acid"
     ]
    },
    {
     "cell_type": "markdown",
     "metadata": {},
     "source": [
      "Using two ${}^{13}\\text{C}$ and two $\\text{H}$ spins, we obtain two coupled two-qubit subsystems.\n",
      "\n",
      "![](files/figures/crotonic_acid.svg)\n",
      "\n",
      "Treat $\\text{H}$ spins as untrusted register, ${}^{13}\\text{C}$ as a trusted simulator."
     ]
    },
    {
     "cell_type": "markdown",
     "metadata": {
      "slideshow": {
       "slide_type": "subslide"
      }
     },
     "source": [
      "- We can decouple two hydrogens and two carbons such that each two-qubit subsystem evolves as\n",
      "\n",
      "$$\n",
      "    H(\\omega_1, \\omega_2, J) = \\omega_1 \\sigma_z^{(1)} / 2 + \\omega_2 \\sigma_z^{(2)} / 2 + J \\sigma_z^{(1)} \\sigma_z^{(2)}.\n",
      "$$\n",
      "\n",
      "- $\\omega_1$ and $\\omega_2$ are *chemical shifts* to be estimated along with $J$."
     ]
    },
    {
     "cell_type": "markdown",
     "metadata": {},
     "source": [
      "- Crotonic acid has been thoroughly studied, such that we can compare to conventional characterization methods.\n",
      "- Can compare results from using SMC+IQLE to known spectroscopic parameters."
     ]
    },
    {
     "cell_type": "heading",
     "level": 3,
     "metadata": {
      "slideshow": {
       "slide_type": "subslide"
      }
     },
     "source": [
      "Simulation Algorithm"
     ]
    },
    {
     "cell_type": "markdown",
     "metadata": {},
     "source": [
      "- $\\sigma_z^{(1)}$ and $\\sigma_z^{(2)}$ can each be inverted by using $\\pi)_x$ pulses.\n",
      "- In the toggling frame of pulses, each term of the Hamiltonian can be turned on/off independently.\n",
      "\n",
      "$$\n",
      "    U(\\vec{x}_-, t) = \\exp(+i \\tau_3 J_C \\sigma_z^{(1)} \\sigma_z^{(2)}) \\exp(+i \\tau_2 \\omega_{2,C} \\sigma_z^{(2)} / 2)\n",
      "    \\exp(+i \\tau_1 \\omega_{1,C} \\sigma_z^{(1)} / 2),\n",
      "$$\n",
      "where $\\tau_1$, $\\tau_2$ and $\\tau_3$ are chosen such that:\n",
      "\n",
      "- $\\tau_1 \\omega_{1,C} = \\omega_{1,-} t$\n",
      "- $\\tau_2 \\omega_{2,C} = \\omega_{2,-} t$\n",
      "- $\\tau_3 J_C = J_- t$"
     ]
    },
    {
     "cell_type": "heading",
     "level": 3,
     "metadata": {
      "slideshow": {
       "slide_type": "subslide"
      }
     },
     "source": [
      "Likelihood Function"
     ]
    },
    {
     "cell_type": "markdown",
     "metadata": {},
     "source": [
      "NMR uses ensemble measurement, so data is a time record of the free induction decay, and can be simulated with\n",
      "a Weiner process\n",
      "$$\n",
      "    dR = \\langle\\rho(t) \\hat{O}\\rangle\\ dt + dW.\n",
      "$$\n",
      "\n",
      "\n",
      "- PDF of discrete samples from FID gives likelihood function."
     ]
    },
    {
     "cell_type": "markdown",
     "metadata": {
      "slideshow": {
       "slide_type": "subslide"
      }
     },
     "source": [
      "- Crotonic acid experiments in NMR fit naturally into the SMC and IQLE frameworks.\n",
      "- Useful testbed for efficacy of quantum Hamiltonian learning with experimentally-accessible resources."
     ]
    },
    {
     "cell_type": "heading",
     "level": 1,
     "metadata": {
      "slideshow": {
       "slide_type": "slide"
      }
     },
     "source": [
      "Software Implementation"
     ]
    },
    {
     "cell_type": "markdown",
     "metadata": {},
     "source": [
      "We have developed a flexible and easy-to-use Python library, [**QInfer**](https://github.com/csferrie/python-qinfer), for implementing SMC-based applications."
     ]
    },
    {
     "cell_type": "code",
     "collapsed": false,
     "input": [
      "iframe(\"http://python-qinfer.readthedocs.org/en/latest\")"
     ],
     "language": "python",
     "metadata": {},
     "outputs": [
      {
       "html": [
        "<iframe src=\"http://python-qinfer.readthedocs.org/en/latest\" width=1000 height=400></iframe>"
       ],
       "metadata": {},
       "output_type": "pyout",
       "prompt_number": 9,
       "text": [
        "<IPython.core.display.HTML at 0x25bc8d0>"
       ]
      }
     ],
     "prompt_number": 9
    },
    {
     "cell_type": "heading",
     "level": 2,
     "metadata": {
      "slideshow": {
       "slide_type": "subslide"
      }
     },
     "source": [
      "Features"
     ]
    },
    {
     "cell_type": "markdown",
     "metadata": {},
     "source": [
      "- SMC\n",
      "- Likelihood-free SMC\n",
      "- Credible region estimation\n",
      "- Fisher and Bayes information matrix calculations\n",
      "- Experiment design heuristics and optimization\n",
      "- Robustness testing tools\n",
      "- Parallelization"
     ]
    },
    {
     "cell_type": "heading",
     "level": 1,
     "metadata": {
      "slideshow": {
       "slide_type": "slide"
      }
     },
     "source": [
      "Conclusions"
     ]
    },
    {
     "cell_type": "markdown",
     "metadata": {},
     "source": [
      "- Classical simulation can be used to characterize devices in an experimentally-relevant manner.\n",
      "- Quantum simulation is a valuable resource for characterizing and verifying large quantum systems.\n",
      "- Inversion allows for the use of long evolution times and provides additional controls.\n",
      "- Our algorithm is *robust* to many common sources of errors."
     ]
    },
    {
     "cell_type": "markdown",
     "metadata": {
      "slideshow": {
       "slide_type": "fragment"
      }
     },
     "source": [
      "In the future, we plan on extending these results by\n",
      "\n",
      "- Using compressed simulation, and\n",
      "- Demonstrating the efficicacy of our algorithm in liquid-state NMR."
     ]
    },
    {
     "cell_type": "heading",
     "level": 1,
     "metadata": {
      "slideshow": {
       "slide_type": "slide"
      }
     },
     "source": [
      "References"
     ]
    },
    {
     "cell_type": "markdown",
     "metadata": {},
     "source": [
      "**[BG+13]**\n",
      "R. Blume-Kohout, J. K. Gamble, E. Nielsen, J. Mizrahi, J. D. Sterk, and P. Maunz, \u201cRobust, self-consistent, closed-form tomography of quantum logic gates on a trapped ion qubit,\u201d arXiv:1310.4492 [quant-ph], Oct. 2013.\n",
      "\n",
      "**[BH+03]**\n",
      "N. Boulant, T. F. Havel, M. A. Pravia, and D. G. Cory, \u201cRobust method for estimating the Lindblad operators of a dissipative quantum process from measurements of the density operator at multiple time points,\u201d Phys. Rev. A, vol. 67, no. 4, p. 042322, Apr. 2003.\n",
      "\n",
      "**[dSLP11]**\n",
      "M. P. da Silva, O. Landon-Cardinal, and D. Poulin, \u201cPractical Characterization of Quantum Devices without Tomography,\u201d Phys. Rev. Lett., vol. 107, no. 21, p. 210404, Nov. 2011.\n",
      "\n",
      "**[FG13]**\n",
      "C. Ferrie and C. E. Granade, \u201cLikelihood-free quantum inference: tomography without the Born Rule,\u201d arXiv e-print 1304.5828, Apr. 2013."
     ]
    },
    {
     "cell_type": "markdown",
     "metadata": {
      "slideshow": {
       "slide_type": "subslide"
      }
     },
     "source": [
      "**[GFWC12]**\n",
      "C. E. Granade, C. Ferrie, N. Wiebe, and D. G. Cory, \u201cRobust online Hamiltonian learning,\u201d New Journal of Physics, vol. 14, no. 10, p. 103013, Oct. 2012.\n",
      "\n",
      "**[HW12]**\n",
      "M. J. W. Hall and H. M. Wiseman, \u201cDoes Nonlinear Metrology Offer Improved Resolution? Answers from Quantum Information Theory,\u201d Phys. Rev. X, vol. 2, no. 4, p. 041006, Oct. 2012.\n",
      "\n",
      "**[MGE12]**\n",
      "E. Magesan, J. M. Gambetta, and J. Emerson, \u201cCharacterizing Quantum Gates via Randomized Benchmarking,\u201d Physical Review A, vol. 85, no. 4, Apr. 2012.\n",
      "\n",
      "**[WG+12a]**\n",
      "N. Wiebe, C. Granade, C. Ferrie, and D. G. Cory, \u201cHamiltonian Learning and Certification Using Quantum Resources,\u201d arXiv:1309.0876 [quant-ph], Sep. 2013.\n",
      "\n",
      "**[WG+12b]**\n",
      "N. Wiebe, C. Granade, C. Ferrie, and D. G. Cory, \u201cQuantum Hamiltonian Learning Using Imperfect Quantum Resources,\u201d arXiv:1311.5269 [quant-ph], Nov. 2013."
     ]
    },
    {
     "cell_type": "markdown",
     "metadata": {
      "slideshow": {
       "slide_type": "subslide"
      }
     },
     "source": [
      "These references are also available on [Zotero](https://www.zotero.org/cgranade/items/collectionKey/UWFT2XAI)."
     ]
    },
    {
     "cell_type": "code",
     "collapsed": false,
     "input": [
      "iframe('https://www.zotero.org/cgranade/items/collectionKey/UWFT2XAI')"
     ],
     "language": "python",
     "metadata": {},
     "outputs": [
      {
       "html": [
        "<iframe src=\"https://www.zotero.org/cgranade/items/collectionKey/UWFT2XAI\" width=1000 height=400></iframe>"
       ],
       "metadata": {},
       "output_type": "pyout",
       "prompt_number": 10,
       "text": [
        "<IPython.core.display.HTML at 0x25bc1d0>"
       ]
      }
     ],
     "prompt_number": 10
    },
    {
     "cell_type": "heading",
     "level": 1,
     "metadata": {
      "slideshow": {
       "slide_type": "slide"
      }
     },
     "source": [
      "Thank You"
     ]
    }
   ],
   "metadata": {}
  }
 ]
}