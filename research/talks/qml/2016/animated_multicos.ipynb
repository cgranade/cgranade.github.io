{
 "cells": [
  {
   "cell_type": "markdown",
   "metadata": {},
   "source": [
    "# Animated Multicos Example"
   ]
  },
  {
   "cell_type": "markdown",
   "metadata": {},
   "source": [
    "## Introduction"
   ]
  },
  {
   "cell_type": "markdown",
   "metadata": {},
   "source": [
    "This notebook demonstrates Bayes updates and resampling steps of the sequential Monte Carlo algorithm, using [QInfer](https://github.com/csferrie/python-qinfer)."
   ]
  },
  {
   "cell_type": "markdown",
   "metadata": {},
   "source": [
    "## Preamble"
   ]
  },
  {
   "cell_type": "markdown",
   "metadata": {},
   "source": [
    "As always for Python 2, we need to enable sensible division support."
   ]
  },
  {
   "cell_type": "code",
   "execution_count": 1,
   "metadata": {
    "collapsed": false
   },
   "outputs": [],
   "source": [
    "from __future__ import division"
   ]
  },
  {
   "cell_type": "markdown",
   "metadata": {},
   "source": [
    "We want to [suppress output of figures](http://stackoverflow.com/questions/15713279/calling-pylab-savefig-without-display-in-ipython), or else we'll generate a lot of excess figures."
   ]
  },
  {
   "cell_type": "code",
   "execution_count": 2,
   "metadata": {
    "collapsed": false
   },
   "outputs": [],
   "source": [
    "import matplotlib\n",
    "matplotlib.use('Agg')"
   ]
  },
  {
   "cell_type": "markdown",
   "metadata": {},
   "source": [
    "Now we can import the basic scientific and plotting libraries we need."
   ]
  },
  {
   "cell_type": "code",
   "execution_count": 3,
   "metadata": {
    "collapsed": false
   },
   "outputs": [
    {
     "name": "stderr",
     "output_type": "stream",
     "text": [
      "/home/cgranade/anaconda/lib/python2.7/site-packages/matplotlib/__init__.py:872: UserWarning: axes.color_cycle is deprecated and replaced with axes.prop_cycle; please use the latter.\n",
      "  warnings.warn(self.msg_depr % (key, alt_key))\n"
     ]
    }
   ],
   "source": [
    "import numpy as np\n",
    "import matplotlib.pyplot as plt"
   ]
  },
  {
   "cell_type": "markdown",
   "metadata": {},
   "source": [
    "Because I think it's prettier, we enable the ggplot style used by mpltools."
   ]
  },
  {
   "cell_type": "code",
   "execution_count": 4,
   "metadata": {
    "collapsed": false
   },
   "outputs": [],
   "source": [
    "plt.style.use('ggplot-rq')\n",
    "plt.rcParams['figure.facecolor'] = 'black'\n",
    "plt.rcParams['text.color'] = 'white'\n",
    "plt.rcParams['grid.color'] = 'black'\n",
    "plt.rcParams['axes.labelcolor'] = 'white'\n",
    "plt.rcParams['axes.edgecolor'] = 'black'\n",
    "plt.rcParams['xtick.color'] = 'white'\n",
    "plt.rcParams['ytick.color'] = 'white'\n",
    "plt.rcParams['axes.facecolor'] = '#444444'\n",
    "plt.rcParams['axes.prop_cycle'] = plt.cycler('color', [\n",
    "    '#D55E00', \n",
    "    '#56B4E9'\n",
    "])"
   ]
  },
  {
   "cell_type": "markdown",
   "metadata": {},
   "source": [
    "We can now import QInfer and the [multicos model](http://python-qinfer.readthedocs.org/en/latest/guide/models.html#implementing-custom-simulators-and-models) we'll be using."
   ]
  },
  {
   "cell_type": "code",
   "execution_count": 5,
   "metadata": {
    "collapsed": false
   },
   "outputs": [],
   "source": [
    "import qinfer as qi\n",
    "from multicos import MultiCosModel"
   ]
  },
  {
   "cell_type": "markdown",
   "metadata": {},
   "source": [
    "Finally, we need some annoying OS stuff to put the figures in a nice temporary location."
   ]
  },
  {
   "cell_type": "code",
   "execution_count": 6,
   "metadata": {
    "collapsed": false
   },
   "outputs": [],
   "source": [
    "import tempfile as tf\n",
    "import os"
   ]
  },
  {
   "cell_type": "code",
   "execution_count": 7,
   "metadata": {
    "collapsed": false
   },
   "outputs": [],
   "source": [
    "save_loc = tf.mkdtemp(prefix='multicos-figs-')"
   ]
  },
  {
   "cell_type": "code",
   "execution_count": 8,
   "metadata": {
    "collapsed": false
   },
   "outputs": [
    {
     "name": "stdout",
     "output_type": "stream",
     "text": [
      "Saving figures to /tmp/multicos-figs-m9NTas\n"
     ]
    }
   ],
   "source": [
    "print \"Saving figures to {}\".format(save_loc)"
   ]
  },
  {
   "cell_type": "code",
   "execution_count": 9,
   "metadata": {
    "collapsed": false
   },
   "outputs": [],
   "source": [
    "n_exps = 250"
   ]
  },
  {
   "cell_type": "markdown",
   "metadata": {},
   "source": [
    "## Functions"
   ]
  },
  {
   "cell_type": "markdown",
   "metadata": {},
   "source": [
    "We define two functions, one which saves out figures to PNGs for later use, and one which samples experiments."
   ]
  },
  {
   "cell_type": "code",
   "execution_count": 10,
   "metadata": {
    "collapsed": false
   },
   "outputs": [],
   "source": [
    "def make_updater_frame(updater, fname=None, pt_size=12, true=None):\n",
    "    locs = updater.particle_locations\n",
    "    ws   = updater.particle_weights * updater.n_particles\n",
    "    \n",
    "    fig = plt.figure()\n",
    "    plt.scatter(locs[:, 0], locs[:, 1], s=pt_size*np.sqrt(ws), c='#56B4E9', linewidth=0)\n",
    "    \n",
    "    if true is not None:\n",
    "        plt.scatter(true[..., 0], true[..., 1], s=pt_size*10, c='#D55E00', marker='*')\n",
    "    \n",
    "    plt.xlim((0, 1))\n",
    "    plt.ylim((0, 1))\n",
    "    plt.axes().set_aspect('equal')\n",
    "    plt.xlabel(r'$\\omega_1$')\n",
    "    plt.ylabel(r'$\\omega_2$')\n",
    "    plt.gca().grid(True)\n",
    "#     plt.title(r'$\\Pr(1 | \\omega_1, \\omega_2; t) = \\cos^2(\\omega_1 t_1) \\cos^2(\\omega_2 t_2)$', loc='left', y=1.2)\n",
    "    legend = plt.legend(['Particles', 'True'], ncol=2, bbox_to_anchor=(1, 1.075), scatterpoints=1)\n",
    "    \n",
    "    # See http://stackoverflow.com/questions/24706125/setting-a-fixed-size-for-points-in-legend for why this works.\n",
    "    legend.legendHandles[0]._sizes = [12.]\n",
    "    \n",
    "    if fname is not None:\n",
    "        plt.savefig(os.path.join(save_loc, fname), format='png', dpi=300, facecolor='k', frameon=False)\n",
    "        plt.close()\n",
    "        del fig\n",
    "        return None\n",
    "    else:\n",
    "        return fig"
   ]
  },
  {
   "cell_type": "code",
   "execution_count": 11,
   "metadata": {
    "collapsed": false
   },
   "outputs": [],
   "source": [
    "def heuristic(updater):\n",
    "    idx_exp = len(updater.data_record)\n",
    "    mag_t = (np.pi / 2) * ((129/128)**idx_exp)\n",
    "    theta = np.random.rand() * np.pi / 2\n",
    "    \n",
    "    expparams = np.array([([np.cos(theta) * mag_t, np.sin(theta) * mag_t], )], dtype=model.expparams_dtype)\n",
    "    return expparams"
   ]
  },
  {
   "cell_type": "markdown",
   "metadata": {},
   "source": [
    "## The Actual Experiment"
   ]
  },
  {
   "cell_type": "markdown",
   "metadata": {},
   "source": [
    "Let's now draw data and plot the posteriors!"
   ]
  },
  {
   "cell_type": "code",
   "execution_count": 12,
   "metadata": {
    "collapsed": false
   },
   "outputs": [],
   "source": [
    "prior = qi.UniformDistribution([[0, 1], [0, 1]])\n",
    "true_model = prior.sample()"
   ]
  },
  {
   "cell_type": "code",
   "execution_count": 13,
   "metadata": {
    "collapsed": false
   },
   "outputs": [],
   "source": [
    "model = MultiCosModel()"
   ]
  },
  {
   "cell_type": "code",
   "execution_count": 14,
   "metadata": {
    "collapsed": false
   },
   "outputs": [],
   "source": [
    "updater = qi.smc.SMCUpdater(model, 1000, prior)"
   ]
  },
  {
   "cell_type": "code",
   "execution_count": 15,
   "metadata": {
    "collapsed": false
   },
   "outputs": [],
   "source": [
    "prog = qi.IPythonProgressBar()\n",
    "prog.start(n_exps)\n",
    "\n",
    "for idx_exp in xrange(n_exps):\n",
    "    make_updater_frame(updater, true=true_model, fname='dist-{:04}.png'.format(idx_exp))\n",
    "    expparams = heuristic(updater)\n",
    "    outcome = model.simulate_experiment(true_model, expparams)\n",
    "    updater.update(outcome, expparams)\n",
    "    prog.update(idx_exp)\n",
    "    \n",
    "make_updater_frame(updater, true=true_model, fname='dist-{:04}.png'.format(n_exps))\n",
    "prog.finished()"
   ]
  },
  {
   "cell_type": "markdown",
   "metadata": {},
   "source": [
    "## Make The Video (*nix Only)"
   ]
  },
  {
   "cell_type": "markdown",
   "metadata": {},
   "source": [
    "In this section, we [assemble the PNGs](https://trac.ffmpeg.org/wiki/Create%20a%20video%20slideshow%20from%20images) we made earlier into an MPEG-4 AVC (that is, H.264) container. We assume [avconv, not ffmpeg](http://askubuntu.com/a/432585) on an Ubuntu-like system."
   ]
  },
  {
   "cell_type": "code",
   "execution_count": 16,
   "metadata": {
    "collapsed": false
   },
   "outputs": [],
   "source": [
    "cmd = r'avconv -framerate 10 -i {0}/dist-%04d.png -c:v libx264 -r 30 -pix_fmt yuv420p {0}/distns.mp4'.format(save_loc)"
   ]
  },
  {
   "cell_type": "code",
   "execution_count": 17,
   "metadata": {
    "collapsed": false
   },
   "outputs": [],
   "source": [
    "import subprocess"
   ]
  },
  {
   "cell_type": "markdown",
   "metadata": {},
   "source": [
    "WARNING: the following can take a long time, and if it fails, lock up IPython Notebook. Use with caution."
   ]
  },
  {
   "cell_type": "code",
   "execution_count": 18,
   "metadata": {
    "collapsed": false
   },
   "outputs": [],
   "source": [
    "retval = subprocess.call(cmd, shell=True)\n",
    "if not retval:\n",
    "    subprocess.call('mv {0}/distns.mp4 figures/multicos-distributions.mp4'.format(save_loc), shell=True)"
   ]
  },
  {
   "cell_type": "code",
   "execution_count": null,
   "metadata": {
    "collapsed": true
   },
   "outputs": [],
   "source": []
  }
 ],
 "metadata": {
  "kernelspec": {
   "display_name": "Python 2",
   "language": "python",
   "name": "python2"
  },
  "language_info": {
   "codemirror_mode": {
    "name": "ipython",
    "version": 2
   },
   "file_extension": ".py",
   "mimetype": "text/x-python",
   "name": "python",
   "nbconvert_exporter": "python",
   "pygments_lexer": "ipython2",
   "version": "2.7.11"
  }
 },
 "nbformat": 4,
 "nbformat_minor": 0
}
