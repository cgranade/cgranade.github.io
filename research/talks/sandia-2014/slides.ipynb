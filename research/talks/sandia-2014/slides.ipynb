{
 "metadata": {
  "name": ""
 },
 "nbformat": 3,
 "nbformat_minor": 0,
 "worksheets": [
  {
   "cells": [
    {
     "cell_type": "heading",
     "level": 1,
     "metadata": {
      "slideshow": {
       "slide_type": "slide"
      }
     },
     "source": [
      "Practical Characterization and Control of Quantum Systems"
     ]
    },
    {
     "cell_type": "heading",
     "level": 2,
     "metadata": {
      "slideshow": {
       "slide_type": "-"
      }
     },
     "source": [
      "Cassandra Granade<br />\n",
      "Institute for Quantum Computing"
     ]
    },
    {
     "cell_type": "markdown",
     "metadata": {},
     "source": [
      "**Joint Work with** Christopher Ferrie, Nathan Wiebe, Ian Hincks, Troy Borneman and D. G. Cory"
     ]
    },
    {
     "cell_type": "heading",
     "level": 3,
     "metadata": {
      "slideshow": {
       "slide_type": "skip"
      }
     },
     "source": [
      "Abstract"
     ]
    },
    {
     "cell_type": "markdown",
     "metadata": {
      "slideshow": {
       "slide_type": "skip"
      }
     },
     "source": [
      "As quantum information processing experiments grow in scale and complexity,\n",
      "new techniques are required to characterize and control quantum devices.\n",
      "Here, we provide an algorithm for applying Bayesian techniques to\n",
      "quantum information processing experiments.\n",
      "We introduce and demonstrate an open-source software library implementing our\n",
      "approach and show an example of these advances as applied in nitrogen vacancy\n",
      "centers.\n",
      "\n",
      "We also discuss advances in control, demonstrating an algorithm for\n",
      "incorporating realistic physical models of non-linear systems\n",
      "into the design of control sequences.\n",
      "Finally, we show how both of these algorithms can be extended\n",
      "with the use of quantum resources to allow for application\n",
      "to much larger systems."
     ]
    },
    {
     "cell_type": "markdown",
     "metadata": {},
     "source": [
      "Slides and references are available at [https://www.cgranade.com/research/talks/sandia-2014/](https://www.cgranade.com/research/talks/sandia-2014/).\n",
      "\n",
      "References like `10/abc` can be looked up using `http://doi.org/abc`.\n",
      "$\\renewcommand{\\vec}[1]{\\boldsymbol{#1}}$\n",
      "$\\renewcommand{\\matr}[1]{\\mathbf{#1}}$\n",
      "$\\newcommand{\\bra}[1]{\\left\\langle#1\\right|}$\n",
      "$\\newcommand{\\ket}[1]{\\left|#1\\right\\rangle}$\n",
      "$\\newcommand{\\braket}[2]{\\left\\langle#1\\mid#2\\right\\rangle}$\n",
      "$\\newcommand{\\dd}{\\mathrm{d}}$\n",
      "$\\newcommand{\\ii}{\\mathrm{i}}$\n",
      "$\\newcommand{\\ee}{\\mathrm{e}}$\n",
      "$\\newcommand{\\expect}{\\mathbb{E}}$\n",
      "$\\newcommand{\\matr}[1]{\\mathbf{#1}}$\n",
      "$\\newcommand{\\T}{\\mathrm{T}}$\n",
      "$\\newcommand{\\Cov}{\\operatorname{Cov}}$\n",
      "$\\newcommand{\\Tr}{\\operatorname{Tr}}$\n",
      "$\\newcommand{\\real}{\\mathbb{R}}$\n",
      "$\\renewcommand{\\Re}{\\operatorname{Re}}$"
     ]
    },
    {
     "cell_type": "heading",
     "level": 2,
     "metadata": {
      "slideshow": {
       "slide_type": "skip"
      }
     },
     "source": [
      "Compling and Hosting"
     ]
    },
    {
     "cell_type": "markdown",
     "metadata": {
      "slideshow": {
       "slide_type": "skip"
      }
     },
     "source": [
      "To compile these slides, we use **nbconvert**."
     ]
    },
    {
     "cell_type": "code",
     "collapsed": false,
     "input": [
      "!ipython nbconvert --to slides --template slides.tpl slides.ipynb\n",
      "!mv slides.slides.html slides.html"
     ],
     "language": "python",
     "metadata": {
      "slideshow": {
       "slide_type": "skip"
      }
     },
     "outputs": [
      {
       "output_type": "stream",
       "stream": "stdout",
       "text": [
        "[NbConvertApp] Using existing profile dir: u'/home/cgranade/.config/ipython/profile_default'\r\n",
        "[NbConvertApp] Converting notebook slides.ipynb to slides\r\n",
        "[NbConvertApp] Support files will be in slides_files/\r\n"
       ]
      },
      {
       "output_type": "stream",
       "stream": "stdout",
       "text": [
        "[NbConvertApp] Loaded template slides.tpl\r\n"
       ]
      },
      {
       "output_type": "stream",
       "stream": "stdout",
       "text": [
        "[NbConvertApp] Writing 378978 bytes to slides.slides.html\r\n"
       ]
      }
     ],
     "prompt_number": 14
    },
    {
     "cell_type": "markdown",
     "metadata": {
      "slideshow": {
       "slide_type": "skip"
      }
     },
     "source": [
      "If you want to view them in your browser complete with speaker notes, remote control support, etc., then you need to host the slides. The [instructions for Reveal.js](https://github.com/hakimel/reveal.js/#full-setup) include directions for hosting via a library called Grunt. Unfortunately, this doesn't work well with [remot.io](http://remot.io/), as that tool requires that you serve from port 80."
     ]
    },
    {
     "cell_type": "heading",
     "level": 2,
     "metadata": {
      "slideshow": {
       "slide_type": "skip"
      }
     },
     "source": [
      "Configuration"
     ]
    },
    {
     "cell_type": "markdown",
     "metadata": {
      "slideshow": {
       "slide_type": "skip"
      }
     },
     "source": [
      "Since we're going to display some ``<iframe>``s in this talk, we'll need to import the display functionality from IPython and write a small function. These have no part in the talk itself, so we mark these cells as *Skip* in the Cell Toolbar."
     ]
    },
    {
     "cell_type": "code",
     "collapsed": false,
     "input": [
      "%pylab inline"
     ],
     "language": "python",
     "metadata": {
      "slideshow": {
       "slide_type": "skip"
      }
     },
     "outputs": [
      {
       "output_type": "stream",
       "stream": "stdout",
       "text": [
        "Populating the interactive namespace from numpy and matplotlib\n"
       ]
      },
      {
       "output_type": "stream",
       "stream": "stderr",
       "text": [
        "WARNING: pylab import has clobbered these variables: ['norm']\n",
        "`%pylab --no-import-all` prevents importing * from pylab and numpy\n"
       ]
      }
     ],
     "prompt_number": 4
    },
    {
     "cell_type": "code",
     "collapsed": false,
     "input": [
      "from qinfer.smc import SMCUpdater\n",
      "from qinfer.rb import RandomizedBenchmarkingModel\n",
      "from qinfer.distributions import UniformDistribution\n",
      "from qinfer.resamplers import LiuWestResampler"
     ],
     "language": "python",
     "metadata": {
      "slideshow": {
       "slide_type": "skip"
      }
     },
     "outputs": [],
     "prompt_number": 26
    },
    {
     "cell_type": "code",
     "collapsed": false,
     "input": [
      "from IPython.display import HTML, YouTubeVideo"
     ],
     "language": "python",
     "metadata": {
      "slideshow": {
       "slide_type": "skip"
      }
     },
     "outputs": [],
     "prompt_number": 5
    },
    {
     "cell_type": "code",
     "collapsed": false,
     "input": [
      "def iframe(src):\n",
      "    return HTML('<iframe src=\"{}\" width=1000 height=400></iframe>'.format(src))"
     ],
     "language": "python",
     "metadata": {
      "slideshow": {
       "slide_type": "skip"
      }
     },
     "outputs": [],
     "prompt_number": 28
    },
    {
     "cell_type": "heading",
     "level": 1,
     "metadata": {
      "slideshow": {
       "slide_type": "slide"
      }
     },
     "source": [
      "Introduction"
     ]
    },
    {
     "cell_type": "markdown",
     "metadata": {},
     "source": [
      "This talk will proceed in two parts:\n",
      "\n",
      "- Using sequential Monte Carlo for practical characterization\n",
      "- Extending optimal control theory algorithms to include realistic models of classical electronics"
     ]
    },
    {
     "cell_type": "heading",
     "level": 1,
     "metadata": {
      "slideshow": {
       "slide_type": "slide"
      }
     },
     "source": [
      "Part 1: Practical Characterization"
     ]
    },
    {
     "cell_type": "heading",
     "level": 2,
     "metadata": {
      "slideshow": {
       "slide_type": "slide"
      }
     },
     "source": [
      "Limits of Traditional Characterization"
     ]
    },
    {
     "cell_type": "markdown",
     "metadata": {},
     "source": [
      "Quantum information experiments are pushing the limits of traditional characterization techniques.\n",
      "\n",
      "- Large numbers of parameters to estimate.\n",
      "- Errors in estimated parameters can be highly correlated.\n",
      "- Can be hard to extract confidence and credible regions.\n",
      "- Can be difficult to incorporate practical experimental effects."
     ]
    },
    {
     "cell_type": "heading",
     "level": 2,
     "metadata": {
      "slideshow": {
       "slide_type": "slide"
      }
     },
     "source": [
      "Example: Hyperfine Measurement in NV Centers"
     ]
    },
    {
     "cell_type": "markdown",
     "metadata": {},
     "source": [
      "<figure>\n",
      "<img src=\"files/figures/nv-lattice-small.jpg\" width=\"40%\">\n",
      "<figcaption>Image courtesy of Ian Hincks.</figcaption>\n",
      "</figure>"
     ]
    },
    {
     "cell_type": "markdown",
     "metadata": {},
     "source": [
      "Electronic spin $\\vec{S}$ in NV center coupled to a nearby carbon spin $\\vec{I}$:\n",
      "$$\n",
      "H = \\Delta_{\\text{zfs}} S_z^2 + \\gamma_e (\\vec{B} + {\\color{red} \\vec{\\delta B}}) \\cdot \\vec{S} + \\gamma_C (\\vec{B} + {\\color{red} \\vec{\\delta B}}) \\cdot \\vec{I} + \\vec{S} \\cdot {\\color{red} \\mathbf{A}} \\cdot \\vec{I},\n",
      "$$"
     ]
    },
    {
     "cell_type": "markdown",
     "metadata": {},
     "source": [
      "${\\color{red} \\vec{\\delta B}}$ causes large errors in ${\\color{red} \\matr{A}}$, making it difficult to characterize $H$ using spectroscopic methods."
     ]
    },
    {
     "cell_type": "heading",
     "level": 2,
     "metadata": {
      "slideshow": {
       "slide_type": "slide"
      }
     },
     "source": [
      "Enabling Characterization with Simulation"
     ]
    },
    {
     "cell_type": "markdown",
     "metadata": {},
     "source": [
      "Bayes' Rule relates estimation to <span style=\"color: red\">simulation<span>:"
     ]
    },
    {
     "cell_type": "markdown",
     "metadata": {},
     "source": [
      "$$\n",
      "    \\Pr(\\text{hypothesis} | \\text{data}) = \\frac{\\color{red}{\\Pr(\\text{data} | \\text{hypothesis})}}{\\Pr(\\text{data})} \\Pr(\\text{hypothesis})\n",
      "$$"
     ]
    },
    {
     "cell_type": "markdown",
     "metadata": {},
     "source": [
      "The posterior distribution describes what we learn from our data about hypotheses."
     ]
    },
    {
     "cell_type": "markdown",
     "metadata": {
      "slideshow": {
       "slide_type": "slide"
      }
     },
     "source": [
      "$\\Rightarrow$ Practical characterization can be enabled using *sequential Monte Carlo*.\n",
      "\n",
      "- Classical Bayesian algorithm\n",
      "- Uses *simulation* to *estimate* parameters\n",
      "- Numerical algorithm\u2014 doesn't assume analytic solution"
     ]
    },
    {
     "cell_type": "markdown",
     "metadata": {
      "slideshow": {
       "slide_type": "slide"
      }
     },
     "source": [
      "\n",
      "For instance, to learn about a Hamiltonian $H$ given a measurement $d$:"
     ]
    },
    {
     "cell_type": "markdown",
     "metadata": {},
     "source": [
      "$$\\begin{align}\n",
      "\\Pr(H) & \\approx \\sum_{i=0}^N w_i \\delta(H - H_i) \\\\\n",
      "\\Pr(H | d) & \\approx \\sum_{i=0}^N w_i \\delta(H - H_i) \\times \\Pr(d | H_i) / \\mathcal{N}\n",
      "\\end{align}$$"
     ]
    },
    {
     "cell_type": "markdown",
     "metadata": {},
     "source": [
      "$\\mathcal{N}$: normalization factor (can be found implicitly)\n",
      "\n",
      "Set $w_i \\gets w_i \\Pr(d | H_i) / \\mathcal{N}$ to be new prior.\n",
      "\n",
      "- **Iterative** $\\Rightarrow$ SMC can be used *online* as data arrives.\n",
      "- Also reduces overhead for postprocessing large datasets.\n",
      "\n",
      "Estimate of $H$ is then\n",
      "$$\n",
      "\\hat{H} = \\expect[H] = \\sum_i w_i H_i.\n",
      "$$\n",
      "\n",
      "(Doucet et al., Stat. & Comp. **10** 3 197-208; Husz\u00e1r and Houlsby, PRA **85** 052120; Granade et al. [10/s86](http://doi.org/s86), NJP **14** 10 103013 [10/s87](http://doi.org/s87))"
     ]
    },
    {
     "cell_type": "heading",
     "level": 3,
     "metadata": {
      "slideshow": {
       "slide_type": "slide"
      }
     },
     "source": [
      "Generality of Simulation-Based Characterization"
     ]
    },
    {
     "cell_type": "markdown",
     "metadata": {},
     "source": [
      "Simulation $\\Pr(d|H_i)$ with hypothesis $H_i$ allows for additional experimental details in our simulation, at the trade off of computational cost.\n",
      "\n",
      "Examples:\n",
      "\n",
      "- Finite and unknown $T_1$, $T_2$.\n",
      "- Unknown visibility.\n",
      "- Uncertainty in control fields."
     ]
    },
    {
     "cell_type": "heading",
     "level": 2,
     "metadata": {
      "slideshow": {
       "slide_type": "slide"
      }
     },
     "source": [
      "Parameter Reduction"
     ]
    },
    {
     "cell_type": "markdown",
     "metadata": {},
     "source": [
      "We often need not consider all possible Hamiltonians, but can consider a set of physically reasonable Hamiltonians.\n",
      "\n",
      "Let $H = H(\\vec{x})$ be a *parameterization*, where $\\vec{x} \\in \\real^d$.\n",
      "\n",
      "Example (*Ising model*):\n",
      "\n",
      "$$\n",
      "H(\\vec{x}) = \\sum_{\\langle i,j \\rangle} x_{i,j} \\sigma_z^{(i)} \\sigma_z^{(j)}\n",
      "$$"
     ]
    },
    {
     "cell_type": "heading",
     "level": 2,
     "metadata": {
      "slideshow": {
       "slide_type": "slide"
      }
     },
     "source": [
      "Prior Knowledge"
     ]
    },
    {
     "cell_type": "markdown",
     "metadata": {},
     "source": [
      "SMC is Bayesian, and thus incorporates prior knowledge.\n",
      "\n",
      "Modeled by a *prior distribution* $\\Pr(\\vec{x}) := \\pi(\\vec{x})$.\n",
      "\n",
      "Examples:\n",
      "\n",
      "- Secondary experiment gives rough estimate of a parameter.\n",
      "- Physical arguments place limits on feasible parameter values.\n",
      "- *Ab initio* calculations give expected range for parameters."
     ]
    },
    {
     "cell_type": "heading",
     "level": 2,
     "metadata": {
      "slideshow": {
       "slide_type": "slide"
      }
     },
     "source": [
      "Characterizing Uncertainty"
     ]
    },
    {
     "cell_type": "markdown",
     "metadata": {},
     "source": [
      "Since we have the posterior, we can calculate the mean and covariance easily:\n",
      "\n",
      "$$\\begin{align}\n",
      "    \\expect[\\vec{x}] & = \\sum_i w_i \\vec{x}_i \\\\\n",
      "    \\Cov(\\vec{x}) & = \\expect[\\vec{x}\\vec{x}^\\T] - \\expect[\\vec{x}]\\expect[\\vec{x}]^\\T\n",
      "\\end{align}$$\n",
      "\n",
      "- SMC replaces integrals over $\\Pr(\\vec{x})$ with finite sums.\n",
      "- Covariance describes uncertainty in estimate."
     ]
    },
    {
     "cell_type": "heading",
     "level": 3,
     "metadata": {
      "slideshow": {
       "slide_type": "slide"
      }
     },
     "source": [
      "Ambiguity in Approximation"
     ]
    },
    {
     "cell_type": "code",
     "collapsed": false,
     "input": [
      "from numpy.random import multivariate_normal\n",
      "from scipy.stats import norm"
     ],
     "language": "python",
     "metadata": {
      "slideshow": {
       "slide_type": "skip"
      }
     },
     "outputs": [],
     "prompt_number": 5
    },
    {
     "cell_type": "code",
     "collapsed": false,
     "input": [
      "xs, ys = multivariate_normal([0, 0], identity(2), size=(200,)).T\n",
      "xs2, ys2 = 8 * np.random.random((2, 200)) - 4\n",
      "\n",
      "figure(figsize=(12,6))\n",
      "subplot(1,2,1); scatter(xs, ys); ylim(-4, 4)\n",
      "subplot(1,2,2); scatter(xs2, ys2, s=norm.pdf(xs2) * norm.pdf(ys2) * 1000);"
     ],
     "language": "python",
     "metadata": {},
     "outputs": [
      {
       "metadata": {},
       "output_type": "display_data",
       "png": "[encoded data removed]",
       "text": [
        "<matplotlib.figure.Figure at 0x7f6fcae46bd0>"
       ]
      }
     ],
     "prompt_number": 12
    },
    {
     "cell_type": "heading",
     "level": 3,
     "metadata": {
      "slideshow": {
       "slide_type": "slide"
      }
     },
     "source": [
      "Avoiding Impoverishment"
     ]
    },
    {
     "cell_type": "markdown",
     "metadata": {},
     "source": [
      "- The number of samples $N$ must be large to represent $\\Pr(\\vec{x} | \\text{data})$.\n",
      "- As more data is collected, posterior becomes sharper.\n",
      "- Initial particles are unlikely to have support in posterior, reducing *effective* $N$.\n",
      "\n",
      "Solution: **resampling**. Replace SMC samples with different samples that better represent the same distribution.\n",
      "\n",
      "Uses that information can be stored in weights $\\{w_i\\}$ or positions $\\{\\vec{x}_i\\}$."
     ]
    },
    {
     "cell_type": "heading",
     "level": 3,
     "metadata": {
      "slideshow": {
       "slide_type": "slide"
      }
     },
     "source": [
      "Liu-West Resampling Algorithm"
     ]
    },
    {
     "cell_type": "markdown",
     "metadata": {},
     "source": [
      "- Sample new $\\vec{x}_i'$ from kernel density estimate such that $\\expect[\\vec{x}]$ and $\\Cov(\\vec{x})$ are preserved.\n",
      "- Set new weights to uniform $w_i' = 1/ N$.\n",
      "\n",
      "Liu-West distribution:\n",
      "$$\n",
      "    \\Pr(\\vec{x}'_i) = \\sum_i w_i \\frac{1}{\\sqrt{(2\\pi)^k |\\matr{\\Sigma}|}} \\exp\\left(\n",
      "        -\\frac{1}{2} (\\vec{x}' - \\vec{\\mu}_i)^\\T \\matr{\\Sigma}^{-1} (\\vec{x}' - \\vec{\\mu}_i)\n",
      "    \\right)\n",
      "$$\n",
      "where\n",
      "$$\\begin{align*}\n",
      "    \\vec{\\mu}_i & = a \\vec{x}_i + (1 - a) \\expect[\\vec{x}] \\\\\n",
      "    \\matr{\\Sigma} & = (1- a^2) \\Cov[\\vec{x}] \\\\\n",
      "    a & \\in [0, 1],\n",
      "\\end{align*}$$\n",
      "\n",
      "(West, J. Royal Stat B **55** 2 409-422; Liu and West 2001)"
     ]
    },
    {
     "cell_type": "heading",
     "level": 2,
     "metadata": {
      "slideshow": {
       "slide_type": "slide"
      }
     },
     "source": [
      "Putting it Together: The SMC Algorithm"
     ]
    },
    {
     "cell_type": "markdown",
     "metadata": {},
     "source": [
      "1. Draw $N$ \"particles\" $\\{\\vec{x}\\}_{i=0}^{N-1}$ from $\\pi(\\vec{x})$.\n",
      "2. Set $w_i = 1 / N$ for each particle.\n",
      "3. For each new measurement $d$:\n",
      "\n",
      "    a. Let $w_i \\gets w_i \\Pr(d | \\vec{x}_i)$.\n",
      "    b. Normalize $w_i$ to be a distribution.\n",
      "    c. If $1 / \\sum_i w_i^2 < 0.5 N$, resample.\n",
      "    \n",
      "(Doucet et al., Stat. & Comp. **10** 3 197-208)"
     ]
    },
    {
     "cell_type": "heading",
     "level": 2,
     "metadata": {
      "slideshow": {
       "slide_type": "slide"
      }
     },
     "source": [
      "Software Implementation"
     ]
    },
    {
     "cell_type": "code",
     "collapsed": false,
     "input": [
      "prior = UniformDistribution([[0.9, 1], [0.4, 0.5], [0.5, 0.6]])\n",
      "updater = SMCUpdater(\n",
      "    RandomizedBenchmarkingModel(), 10000,\n",
      "    prior, resampler=LiuWestResampler()\n",
      ")\n",
      "\n",
      "# As data arrives:\n",
      "# updater.update(datum, experiment)"
     ],
     "language": "python",
     "metadata": {},
     "outputs": [],
     "prompt_number": 29
    },
    {
     "cell_type": "markdown",
     "metadata": {},
     "source": [
      "(Granade et al., [arXiv:1404.5275](https://scirate.com/arxiv/1404.5275); [github.com/csferrie/python-qinfer](https://github.com/csferrie/python-qinfer))"
     ]
    },
    {
     "cell_type": "markdown",
     "metadata": {},
     "source": [
      "Provides an infrastructure for rapidly deploying SMC. User defines:\n",
      "\n",
      "- Parameterization of model and experiments\n",
      "- Possible outcomes\n",
      "- Likelihood of data"
     ]
    },
    {
     "cell_type": "heading",
     "level": 3,
     "metadata": {
      "slideshow": {
       "slide_type": "slide"
      }
     },
     "source": [
      "Built-In Plotting"
     ]
    },
    {
     "cell_type": "code",
     "collapsed": false,
     "input": [
      "updater.plot_posterior_contour(0, 1, res1=50, res2=50)"
     ],
     "language": "python",
     "metadata": {},
     "outputs": [
      {
       "metadata": {},
       "output_type": "pyout",
       "prompt_number": 12,
       "text": [
        "<matplotlib.contour.QuadContourSet instance at 0x33cf248>"
       ]
      },
      {
       "metadata": {},
       "output_type": "display_data",
       "png": "[encoded data removed]",
       "text": [
        "<matplotlib.figure.Figure at 0x33c2150>"
       ]
      }
     ],
     "prompt_number": 12
    },
    {
     "cell_type": "heading",
     "level": 3,
     "metadata": {
      "slideshow": {
       "slide_type": "slide"
      }
     },
     "source": [
      "Built-In Plotting"
     ]
    },
    {
     "cell_type": "code",
     "collapsed": false,
     "input": [
      "updater.plot_posterior_marginal(0)\n",
      "ylim(ymin=0)"
     ],
     "language": "python",
     "metadata": {
      "slideshow": {
       "slide_type": "-"
      }
     },
     "outputs": [
      {
       "metadata": {},
       "output_type": "pyout",
       "prompt_number": 10,
       "text": [
        "(0, 12.0)"
       ]
      },
      {
       "metadata": {},
       "output_type": "display_data",
       "png": "[encoded data removed]",
       "text": [
        "<matplotlib.figure.Figure at 0x3100510>"
       ]
      }
     ],
     "prompt_number": 10
    },
    {
     "cell_type": "heading",
     "level": 3,
     "metadata": {
      "slideshow": {
       "slide_type": "slide"
      }
     },
     "source": [
      "Estimation"
     ]
    },
    {
     "cell_type": "markdown",
     "metadata": {},
     "source": [
      "**QInfer** handles drawing estimates from the current SMC distribution:"
     ]
    },
    {
     "cell_type": "code",
     "collapsed": false,
     "input": [
      "print updater.est_mean()\n",
      "print sqrt(diag(updater.est_covariance_mtx()))\n",
      "print updater.est_entropy()"
     ],
     "language": "python",
     "metadata": {},
     "outputs": [
      {
       "output_type": "stream",
       "stream": "stdout",
       "text": [
        "[ 0.95020288  0.45062089  0.5505005 ]\n",
        "[ 0.02895919  0.02872952  0.02877011]"
       ]
      },
      {
       "output_type": "stream",
       "stream": "stdout",
       "text": [
        "\n",
        "9.21034037198\n"
       ]
      }
     ],
     "prompt_number": 31
    },
    {
     "cell_type": "heading",
     "level": 2,
     "metadata": {
      "slideshow": {
       "slide_type": "slide"
      }
     },
     "source": [
      "Region Estimation"
     ]
    },
    {
     "cell_type": "markdown",
     "metadata": {},
     "source": [
      "Credible region $X_{\\alpha}$: $\\Pr(\\vec{x} \\in X_{\\alpha}) \\ge \\alpha$\n",
      "\n",
      "Several ways to choose $X_{\\alpha}$:\n",
      "\n",
      "- covariance ellipses\u2014 if approx. normal\n",
      "- convex hulls\u2014 very general, but long description\n",
      "- minimum volume enclosing ellipse (MVEE) for the hull\u2014 approximate, but easy to represent"
     ]
    },
    {
     "cell_type": "code",
     "collapsed": false,
     "input": [
      "cov = updater.est_covariance_mtx()\n",
      "hull_faces, hull_vertices = updater.region_est_hull()\n",
      "ellipse_mtx, ellipse_centroid = updater.region_est_ellipsoid()"
     ],
     "language": "python",
     "metadata": {},
     "outputs": [],
     "prompt_number": 8
    },
    {
     "cell_type": "markdown",
     "metadata": {},
     "source": [
      "(Granade et al., NJP **14** 10 103013 [10/s87](http://doi.org/s87); Ferrie, NJP **16** 2 023006 [10/tb4](http://doi.org/tb4))"
     ]
    },
    {
     "cell_type": "heading",
     "level": 2,
     "metadata": {
      "slideshow": {
       "slide_type": "slide"
      }
     },
     "source": [
      "State-Space Methods"
     ]
    },
    {
     "cell_type": "markdown",
     "metadata": {},
     "source": [
      "SMC can also be used to *track* the state of a parameter that fluctuates in time.\n",
      "\n",
      "![](files/figures/specdens-tracking.svg)\n",
      "\n",
      "Here, the true value of $\\omega$ is drawn from a Gaussian process. After each measurement, SMC particles are *moved* to track $\\omega$, $\\vec{x}(t_{k + 1}) \\sim \\mathrm{N}(\\vec{x}(t_k), \\sigma^2)$.\n",
      "\n",
      "(Doucet and Johansen 2011)"
     ]
    },
    {
     "cell_type": "heading",
     "level": 2,
     "metadata": {
      "slideshow": {
       "slide_type": "slide"
      }
     },
     "source": [
      "Robustness of SMC: Finite Sampling"
     ]
    },
    {
     "cell_type": "markdown",
     "metadata": {},
     "source": [
      "When using SMC without exact likelihoods, finite sampling of simulator introduces finite error $\\epsilon$:\n",
      "\n",
      "$$\n",
      "    w_i \\mapsto w_i (\\Pr(d | \\vec{x}_i) + \\epsilon) / \\mathcal{N}\n",
      "$$\n",
      "\n",
      "**Example** (noisy coin): risk for 1000 experiments vs number of samples.\n",
      "\n",
      "<img src=\"files/figures/nc_risk_v_like_per_part_N1e3.svg\" width=\"45%\">\n",
      "\n",
      "(Ferrie and Granade 2014, PRL **112** 13 130402 [10/tdj](http://doi.org/tdj))"
     ]
    },
    {
     "cell_type": "heading",
     "level": 2,
     "metadata": {
      "slideshow": {
       "slide_type": "slide"
      }
     },
     "source": [
      "Robustness of SMC: Incorrect Model"
     ]
    },
    {
     "cell_type": "markdown",
     "metadata": {},
     "source": [
      "We also want SMC to be robust against errors in the simulator. Below: risk when Ising simulator neglects terms of order $10^{-4}$.\n",
      "\n",
      "![](files/figures/badmodel.svg)\n",
      "\n",
      "(Wiebe et al. PRA **89** 4 042314 [10/tdk](http://doi.org/tdk))"
     ]
    },
    {
     "cell_type": "heading",
     "level": 2,
     "metadata": {
      "slideshow": {
       "slide_type": "slide"
      }
     },
     "source": [
      "Other Features"
     ]
    },
    {
     "cell_type": "markdown",
     "metadata": {},
     "source": [
      "- Model selection and (coming soon) model-averaged estimation\n",
      "- Parallelization with IPython\n",
      "- Example of GPU-based model\n",
      "- Improved resampling\n",
      "- Robustness-testing tools (ex.: erroneous models)"
     ]
    },
    {
     "cell_type": "heading",
     "level": 3,
     "metadata": {
      "slideshow": {
       "slide_type": "slide"
      }
     },
     "source": [
      "Documentation"
     ]
    },
    {
     "cell_type": "code",
     "collapsed": false,
     "input": [
      "iframe(\"http://python-qinfer.readthedocs.org/en/latest/\")"
     ],
     "language": "python",
     "metadata": {},
     "outputs": [
      {
       "html": [
        "<iframe src=\"http://python-qinfer.readthedocs.org/en/latest/\" width=1000 height=400></iframe>"
       ],
       "metadata": {},
       "output_type": "pyout",
       "prompt_number": 21,
       "text": [
        "<IPython.core.display.HTML at 0x33aed50>"
       ]
      }
     ],
     "prompt_number": 21
    },
    {
     "cell_type": "heading",
     "level": 2,
     "metadata": {
      "slideshow": {
       "slide_type": "slide"
      }
     },
     "source": [
      "SMC and QInfer in Action: Randomized Benchmarking"
     ]
    },
    {
     "cell_type": "markdown",
     "metadata": {},
     "source": [
      "Randomized benchmarking: apply random Clifford gates $\\{S_i\\}$ to learn average fidelity of a gateset $\\{U_j\\}$:\n",
      "\n",
      "![](files/figures/benchmarking-overview.svg)\n"
     ]
    },
    {
     "cell_type": "heading",
     "level": 2,
     "metadata": {
      "slideshow": {
       "slide_type": "slide"
      }
     },
     "source": [
      "SMC and QInfer in Action: Randomized Benchmarking"
     ]
    },
    {
     "cell_type": "markdown",
     "metadata": {
      "slideshow": {
       "slide_type": "-"
      }
     },
     "source": [
      "- Fidelity exposed as *decay* of survival probability $\\Tr(ES_{\\vec{i}}[\\rho])$; removes effect of preparation $\\rho$ and measurement $E$ (SPAM).\n",
      "- Can interleave with gate of interest.\n",
      "- Least-squares fitting often used to extract fidelity.\n",
      "\n",
      "![](files/figures/ex-signal-interleaved.svg)\n",
      "\n",
      "(Knill et al., PRA **77** 1 012307 [10/cxz9vm](http://doi.org/cxz9vm); Magesan et al., PRL **109** 8 080505 [10/s8j](http://doi.org/s8j))"
     ]
    },
    {
     "cell_type": "heading",
     "level": 2,
     "metadata": {
      "slideshow": {
       "slide_type": "slide"
      }
     },
     "source": [
      "SMC and QInfer in Action: Randomized Benchmarking"
     ]
    },
    {
     "cell_type": "markdown",
     "metadata": {
      "slideshow": {
       "slide_type": "-"
      }
     },
     "source": [
      "SMC can be used to accelerate interleaved RB experiments.\n",
      "\n",
      "- Interpret randomized benchmarking as a **likelihood**.\n",
      "\n",
      "**Example** (zeroth-order model):\n",
      "$$\n",
      "\\Pr(\\text{survival} | A, B, \\tilde{p}, p_{\\text{ref}}; m, \\text{mode}) = \\begin{cases}\n",
      "    A (\\tilde{p} p_{\\text{ref}})^m + B & \\text{interleaved} \\\\\n",
      "    A (p_{\\text{ref}})^m + B           & \\text{reference}\n",
      "\\end{cases}\n",
      "$$\n",
      "\n",
      "- $\\tilde{p}$ and $p_{\\text{ref}}$: interleaved and reference depolarizing parameters (resp)\n",
      "- $A$ and $B$: constants describing SPAM\n",
      "\n",
      "Advantages:\n",
      "\n",
      "- $0 \\le p_{\\text{ref}}, \\tilde{p} \\le 1$ manifest in prior\u2014 avoids instability as $\\tilde{p} \\to 1$.\n",
      "- Using prior information and correlations between different data can drastically reduce data requirements."
     ]
    },
    {
     "cell_type": "heading",
     "level": 2,
     "metadata": {
      "slideshow": {
       "slide_type": "slide"
      }
     },
     "source": [
      "SMC and QInfer in Action: Randomized Benchmarking"
     ]
    },
    {
     "cell_type": "markdown",
     "metadata": {},
     "source": [
      "Straightfoward to implement in QInfer:"
     ]
    },
    {
     "cell_type": "code",
     "collapsed": false,
     "input": [
      "from qinfer.abstract_model import Model\n",
      "\n",
      "class RandomizedBenchmarkingModel(Model):\n",
      "    # ...\n",
      "    \n",
      "    def likelihood(self, outcomes, modelparams, expparams):\n",
      "        p_tilde, p, A, B = modelparams.T[:, :, np.newaxis]\n",
      "        \n",
      "        p_C = p_tilde * p\n",
      "        p = np.where(expparams['reference'][np.newaxis, :], p, p_C)\n",
      "        \n",
      "        m = expparams['m'][np.newaxis, :]\n",
      "        \n",
      "        pr0 = 1 - (A * (p ** m) + B)\n",
      "        \n",
      "        return Model.pr0_to_likelihood_array(outcomes, pr0)\n",
      "    \n",
      "    # ..."
     ],
     "language": "python",
     "metadata": {},
     "outputs": [],
     "prompt_number": 16
    },
    {
     "cell_type": "markdown",
     "metadata": {},
     "source": [
      "(*Granade* et al., [arXiv:1404.5275](https://scirate.com/arxiv/1404.5275))"
     ]
    },
    {
     "cell_type": "heading",
     "level": 2,
     "metadata": {
      "slideshow": {
       "slide_type": "slide"
      }
     },
     "source": [
      "SMC and QInfer in Action: Randomized Benchmarking"
     ]
    },
    {
     "cell_type": "markdown",
     "metadata": {},
     "source": [
      "<img src=\"files/figures/risk-tr-comparison.svg\" width=\"45%\">\n",
      "<img src=\"files/figures/risk-tr-comparison-vs-m-max.svg\" width=\"45%\">\n",
      "\n",
      "(Left: $m = 1, 2, \\dots, 100$; Right: $10^3$ shots/sequence length, $m = 1, 11, \\dots, m_{\\max}$)"
     ]
    },
    {
     "cell_type": "heading",
     "level": 2,
     "metadata": {
      "slideshow": {
       "slide_type": "slide"
      }
     },
     "source": [
      "SMC and QInfer in Action: Hyperfine Measurement"
     ]
    },
    {
     "cell_type": "markdown",
     "metadata": {},
     "source": [
      "With SMC, we can easily integrate data from many different kinds of measurements and control parameters:\n",
      "\n",
      "- Rabi, Ramsey and SPAM experiments\n",
      "- Several different $\\vec{B}$ fields\n",
      "\n",
      "Experimental variety is a resource for decorrelating errors in static controls from hyperfine parameters.\n"
     ]
    },
    {
     "cell_type": "markdown",
     "metadata": {
      "slideshow": {
       "slide_type": "slide"
      }
     },
     "source": [
      "Electronic spin in an NV center coupled to a nitrogen spin:\n",
      "$$\n",
      "H = \\Delta_{\\text{zfs}} S_z^2 + \\gamma_e (\\vec{B} + \\vec{\\delta B}) \\cdot \\vec{S} + \\gamma_N (\\vec{B} + \\vec{\\delta B}) \\cdot \\vec{I}_N + {A}_N S_z I_{N,z}\n",
      "$$\n",
      "Using 5000 particles, we can get accurate estimates of both $\\vec{\\delta B}$ and $\\matr{A}_N$. Shown below for 163M total shots (about 300k photons).\n",
      "\n",
      "<img src=\"files/figures/carbonless_marginals.png\" width=80%>"
     ]
    },
    {
     "cell_type": "markdown",
     "metadata": {
      "slideshow": {
       "slide_type": "slide"
      }
     },
     "source": [
      "Simulations show that we can hyperfine couplings to carbon spins as well:"
     ]
    },
    {
     "cell_type": "markdown",
     "metadata": {},
     "source": [
      "<video width=600 height=400 controls preload><source src=\"files/figures/spam.webm\"><source src=\"files/figures/spam.mp4\"></video>"
     ]
    },
    {
     "cell_type": "heading",
     "level": 1,
     "metadata": {
      "slideshow": {
       "slide_type": "slide"
      }
     },
     "source": [
      "Part 2: Control of Quantum Devices with Non-Linear Electronics"
     ]
    },
    {
     "cell_type": "heading",
     "level": 2,
     "metadata": {
      "slideshow": {
       "slide_type": "slide"
      }
     },
     "source": [
      "Pulse Engineering"
     ]
    },
    {
     "cell_type": "markdown",
     "metadata": {},
     "source": [
      "Modern optimal control theory (OCT) algorithms allow for designing pulses with many desired properties, including\n",
      "\n",
      "- Robustness to distributions over Hamiltonians\n",
      "- Bandwidth and power limits\n",
      "- Ringdown compensation\n",
      "\n",
      "Utility functional:\n",
      "$$\\begin{align*}\n",
      "    \\Phi(\\vec{p}) & = \\Tr(U_{\\text{target}}^{\\dagger} U(\\vec{p})) / \\dim^2\\mathcal{H}, \\text{where} \\\\\n",
      "    U(\\vec{p}) & := \\prod_{i=N}^{1} \\ee^{-\\ii \\Delta t (H_0 + \\sum_{k=1}^K p_{i,k} H_k)}\n",
      "\\end{align*}$$\n",
      "\n",
      "- $H_0$: internal Hamiltonian\n",
      "- $\\{H_k\\}$: control Hamiltonians\n",
      "- $\\Delta t$: timestep"
     ]
    },
    {
     "cell_type": "heading",
     "level": 2,
     "metadata": {
      "slideshow": {
       "slide_type": "slide"
      }
     },
     "source": [
      "GRAPE"
     ]
    },
    {
     "cell_type": "markdown",
     "metadata": {},
     "source": [
      "\n",
      "\n",
      "*Gradient-ascent pulse engineering* (GRAPE) is a commonly used OCT algorithm.\n",
      "\n",
      "- Provides fast evaluation of $\\vec{\\nabla}\\Phi$.\n",
      "- Uses gradient-ascent or conjugate-gradient to maximize $\\Phi$.\n",
      "\n",
      "However, GRAPE assumes linearity of classical control electronics (transfer function).\n",
      "\n",
      "(Khaneja et al., JMR **172** 2 296-305 [10/cg8cdh](http://doi.org/cg8cdh))"
     ]
    },
    {
     "cell_type": "heading",
     "level": 3,
     "metadata": {
      "slideshow": {
       "slide_type": "slide"
      }
     },
     "source": [
      "Calculating Gradients"
     ]
    },
    {
     "cell_type": "markdown",
     "metadata": {},
     "source": [
      "Khaneja gives the gradients wrt the controls $\\{p_k(t)\\}$ in terms of unitary time steps:\n",
      "\n",
      "$$\\begin{align}\n",
      "    \\frac{\\partial \\Phi}{\\partial p_k(t_j)} & = -2 \\Re\\left\\{\\braket{P_j}{\\ii \\Delta t\\, H_k X_j} \\braket{X_j}{P_j} \\right\\} \\\\\n",
      "    X_j & := U_j \\cdots U_1 \\\\\n",
      "    P_j & := U_{j+1}^\\dagger \\cdots U_{n}^\\dagger U_{\\text{target}} \\\\\n",
      "    U_j & := \\exp\\left(-\\ii \\Delta t (H_0 + \\sum_{k=1}^{K} p_k(t_j) H_k )\\right)\n",
      "\\end{align}$$"
     ]
    },
    {
     "cell_type": "heading",
     "level": 3,
     "metadata": {
      "slideshow": {
       "slide_type": "slide"
      }
     },
     "source": [
      "Nonlinear Conjugate Gradient Method"
     ]
    },
    {
     "cell_type": "markdown",
     "metadata": {},
     "source": [
      "1. Choose initial pulse $\\vec{p}$.\n",
      "2. Let $\\beta = 0$, $\\vec{s} = 0$.\n",
      "3. Until utility goal is met:\n",
      "    1. Calculate $\\Phi(\\vec{p})$, $\\vec{\\nabla}\\Phi(\\vec{p})$.\n",
      "    2. Update $\\beta$ using Polak\u2013Ribi\u00e8re formula.\n",
      "    3. $\\vec{s} \\gets -\\vec{\\nabla}\\Phi + \\beta \\vec{s}$.\n",
      "    4. Search along $\\vec{s}$, $\\vec{p} + \\alpha \\vec{s}$ for a step size $\\alpha > 0$.\n",
      "    5. $\\vec{p} \\gets \\vec{p} + \\alpha \\vec{s}$\n",
      "    \n",
      "Gradient information used to update search directions, line search used to determine step sizes."
     ]
    },
    {
     "cell_type": "heading",
     "level": 2,
     "metadata": {
      "slideshow": {
       "slide_type": "slide"
      }
     },
     "source": [
      "Example: Non-Linear Resonators"
     ]
    },
    {
     "cell_type": "markdown",
     "metadata": {},
     "source": [
      "Superconducting resonators admit *kinetic inductance* $L = L(I_L) = L_0 (1 + \\alpha_L \\|I_L\\|^2)$ and a nonlinear resistance $R = R(I_R) = R_0 (1 + \\alpha_L \\|I_R\\|^\\eta)$.\n",
      "\n",
      "<figure>\n",
      "![](files/figures/rlc.svg)\n",
      "<figcaption>Image courtesy of Ian Hincks.</figcaption>\n",
      "</figure>\n",
      "\n",
      "(Maas 2003; Benningshof et al., JMR **230** 84-87 [10/s8m](http://doi.org/s8m); Mohebbi et al., JAP **115** 9 094502 [10/s8n](http://doi.org/s8n))\n",
      "\n",
      "Therefore, the resonance frequency, quality factor and coupling are all functions of current, frustrating linear approximations."
     ]
    },
    {
     "cell_type": "heading",
     "level": 2,
     "metadata": {
      "slideshow": {
       "slide_type": "slide"
      }
     },
     "source": [
      "Distortions"
     ]
    },
    {
     "cell_type": "markdown",
     "metadata": {},
     "source": [
      "Let $\\vec{p}$ be a discretization of $p_k(t)$. Then, the effect of classical electronics (e.g.: a high-$Q$ resonator) can be modeled as an *operator* $g : \\vec{p} \\mapsto \\vec{q}$.\n",
      "\n",
      "<figure>\n",
      "![](files/figures/discrete_conv_op.svg)\n",
      "<figcaption>Image courtesy of Ian Hincks.</figcaption>\n",
      "</figure>"
     ]
    },
    {
     "cell_type": "markdown",
     "metadata": {
      "slideshow": {
       "slide_type": "slide"
      }
     },
     "source": [
      "Since $\\vec{\\nabla}_\\vec{p}\\Phi(g[\\vec{p}]) = \\vec{\\nabla}_\\vec{q}\\Phi(\\vec{q}) \\cdot J_g(\\vec{p})$, if we can find the Jacobian of a distortion operator, we can include it into GRAPE.\n",
      "\n",
      "- Control search is thus for un-distorted pulse.\n",
      "- Can get higher fidelity controls by including distortion.\n",
      "- Allows driving at higher powers\u2014 don't need to limit to linear regime."
     ]
    },
    {
     "cell_type": "heading",
     "level": 2,
     "metadata": {
      "slideshow": {
       "slide_type": "slide"
      }
     },
     "source": [
      "Simulation of Non-Linear Control Systems"
     ]
    },
    {
     "cell_type": "markdown",
     "metadata": {},
     "source": [
      "Including the nonlinear inductance and resistance gives us a system of differential equations\n",
      "$$\\begin{align}\n",
      "    \\frac{\\dd}{\\dd t} \\left[\\begin{matrix}\n",
      "        I_L \\\\ V_{C_m} \\\\ V_{C_t}\n",
      "    \\end{matrix}\\right] & = \\matr{A}(I_L, I_R) \\left[\\begin{matrix}\n",
      "        I_L \\\\ V_{C_m} \\\\ V_{C_t}\n",
      "    \\end{matrix}\\right] + \\vec{y} V_s(t),\n",
      "\\end{align}$$\n",
      "where $\\matr{A}$ and $\\vec{y}$ describe the circuit and driving term, respectively.\n",
      "\n",
      "This system is nonlinear since $\\matr{A} = \\matr{A}(I_L, I_R)$.\n",
      "\n",
      "**Note**: rescaling the driving term does not just rescale the output current."
     ]
    },
    {
     "cell_type": "heading",
     "level": 2,
     "metadata": {
      "slideshow": {
       "slide_type": "slide"
      }
     },
     "source": [
      "Simulation of Non-Linear Control Systems"
     ]
    },
    {
     "cell_type": "markdown",
     "metadata": {},
     "source": [
      "To simulate the distortion introduced by this system, we let $g : \\vec{V}_s \\mapsto \\vec{I}_L$ be the solution to the DEs for a given driving term.\n",
      "\n",
      "The Jacobian can then be approximated perturbatively,\n",
      "$$\n",
      "    \\frac{\\partial g_{m,l}}{\\partial p_{n,k}} \\approx \\left[\\frac{g(\\vec{p} + \\epsilon \\vec{e}_{n,k}) - g(\\vec{p})}{\\epsilon}\\right].\n",
      "$$\n",
      "\n",
      "Taking a small $\\epsilon$ allows us to find a good direction for the conjugate gradient step."
     ]
    },
    {
     "cell_type": "heading",
     "level": 2,
     "metadata": {
      "slideshow": {
       "slide_type": "slide"
      }
     },
     "source": [
      "Example: Finding a $\\pi/2)_x$ Gate"
     ]
    },
    {
     "cell_type": "markdown",
     "metadata": {},
     "source": [
      "For a strongly non-linear resonator, we find the following 99.1% fidelity $\\pi/2)_x$ gate using GRAPE. The un-distorted pulse is shown in red."
     ]
    },
    {
     "cell_type": "markdown",
     "metadata": {},
     "source": [
      "<figure>\n",
      "<img src=\"files/figures/example-nonlin-pulse-x.svg\" width=45%>\n",
      "<img src=\"files/figures/example-nonlin-pulse-y.svg\" width=45%>\n",
      "</figure>"
     ]
    },
    {
     "cell_type": "heading",
     "level": 2,
     "metadata": {
      "slideshow": {
       "slide_type": "slide"
      }
     },
     "source": [
      "Robustness to Distributions"
     ]
    },
    {
     "cell_type": "markdown",
     "metadata": {},
     "source": [
      "We want to relax that $H_0$ and $\\{H_k\\}$ be known with certainty.\n",
      "\n",
      "Let $\\overline{\\Phi} = \\expect_{H_0, \\{H_k\\}}[\\Phi]$\n",
      "\n",
      "- $H_0$: internal\n",
      "- $\\{H_k\\}$: control\n",
      "\n",
      "By linearity of $\\expect$: $$\n",
      "    \\vec{\\nabla}_\\vec{p} \\overline{\\Phi}(g[\\vec{p}]) = \\expect_{H_0, \\{H_k\\}} [\\vec{\\nabla}_{\\vec{q}} \\Phi(\\vec{q})] \\cdot J_g(\\vec{p})\n",
      "$$\n",
      "\n",
      "To optimize pulses for $\\overline{\\Phi}$, we represent $\\Pr(H_0, \\{H_k\\}) =: \\Pr(H_0(\\vec{x}), \\{H_k(\\vec{x})\\}) \\approx \\sum_i w_i \\delta(\\vec{x} - \\vec{x}_i)$.\n",
      "\n",
      " > Robust GRAPE thus can take an SMC approximation as input.\n",
      "\n",
      "(Borneman et al., JMR **225** 120-129 [10/cksg3v](http://doi.org/cksg3v))"
     ]
    },
    {
     "cell_type": "heading",
     "level": 2,
     "metadata": {
      "slideshow": {
       "slide_type": "slide"
      }
     },
     "source": [
      "Ringdown Optimization and Heuristic"
     ]
    },
    {
     "cell_type": "markdown",
     "metadata": {},
     "source": [
      "Decay dominated by $\\ee^{-t / t_c}$, even in non-linear case. Can add a timestep $p(t_{i+1}) = -g[\\vec{p}](t_i)/(\\ee^{\\delta t / t_c} - 1)$ to drive pulse ringdown to zero.\n",
      "\n",
      "- For non-linear, only an approximation.\n",
      "- Multiple steps or optimization can improve ringdown compensation.\n",
      "\n",
      "Using two timesteps for compensation:\n",
      "\n",
      "<img src=\"files/figures/ringdown.png\" width=\"50%\">\n",
      "\n",
      "\n",
      "(Borneman and Cory, JMR **207** 2 220-233 [10/s8p](http://doi.org/s8p))"
     ]
    },
    {
     "cell_type": "heading",
     "level": 2,
     "metadata": {
      "slideshow": {
       "slide_type": "slide"
      }
     },
     "source": [
      "Putting it Together: Robust Pulses for Non-Linear Resonators"
     ]
    },
    {
     "cell_type": "markdown",
     "metadata": {},
     "source": [
      "Using these techniques, we can readily design a pulse that is robust over $\\pm 2\\text{ MHz}$ in the static field ($\\delta\\omega$) and several percent in the control fields $\\kappa$. \n",
      "<figure>\n",
      "![](files/figures/example-robustness-plot.svg)\n",
      "</figure>"
     ]
    },
    {
     "cell_type": "heading",
     "level": 1,
     "metadata": {
      "slideshow": {
       "slide_type": "slide"
      }
     },
     "source": [
      "Conclusions"
     ]
    },
    {
     "cell_type": "markdown",
     "metadata": {},
     "source": [
      "- Bayesian methods allow for including prior information in characterization\n",
      "    - Simulation is a resource for inference\n",
      "- SMC allows for using Bayesian inference in a *practical* manner\n",
      "    - Robust to common errors (finite sampling, approximations in simulation)\n",
      "- Can extend GRAPE with simulations of classical systems\n",
      "    - Allows for control of even strongly non-linear devices\n",
      "- GRAPE can optimize over SMC-like distributions for practical control."
     ]
    },
    {
     "cell_type": "heading",
     "level": 1,
     "metadata": {
      "slideshow": {
       "slide_type": "slide"
      }
     },
     "source": [
      "References"
     ]
    },
    {
     "cell_type": "markdown",
     "metadata": {
      "slideshow": {
       "slide_type": "-"
      }
     },
     "source": [
      "Full reference information is available on [Zotero](https://www.zotero.org/cgranade/items/collectionKey/2NQVPRK9)."
     ]
    },
    {
     "cell_type": "code",
     "collapsed": false,
     "input": [
      "iframe('https://www.zotero.org/cgranade/items/collectionKey/VSWSNCCA')"
     ],
     "language": "python",
     "metadata": {},
     "outputs": [
      {
       "html": [
        "<iframe src=\"https://www.zotero.org/cgranade/items/collectionKey/VSWSNCCA\" width=1000 height=400></iframe>"
       ],
       "metadata": {},
       "output_type": "pyout",
       "prompt_number": 13,
       "text": [
        "<IPython.core.display.HTML at 0x2a54450>"
       ]
      }
     ],
     "prompt_number": 13
    },
    {
     "cell_type": "heading",
     "level": 1,
     "metadata": {
      "slideshow": {
       "slide_type": "slide"
      }
     },
     "source": [
      "Thank You"
     ]
    }
   ],
   "metadata": {}
  }
 ]
}