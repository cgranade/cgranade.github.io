{
 "cells": [
  {
   "cell_type": "code",
   "execution_count": 7,
   "metadata": {
    "collapsed": false
   },
   "outputs": [
    {
     "name": "stderr",
     "output_type": "stream",
     "text": [
      "INFO: Cloning cache of ArrayViews from git://github.com/JuliaLang/ArrayViews.jl.git\n",
      "INFO: Cloning cache of Distributions from git://github.com/JuliaStats/Distributions.jl.git\n",
      "INFO: Cloning cache of PDMats from git://github.com/JuliaStats/PDMats.jl.git\n",
      "INFO: Cloning cache of StatsBase from git://github.com/JuliaStats/StatsBase.jl.git\n",
      "INFO: Cloning cache of StatsFuns from git://github.com/JuliaStats/StatsFuns.jl.git\n",
      "INFO: Installing ArrayViews v0.6.4\n",
      "INFO: Installing Distributions v0.8.10\n",
      "INFO: Installing PDMats v0.4.0\n",
      "INFO: Installing StatsBase v0.8.0\n",
      "INFO: Installing StatsFuns v0.2.0\n",
      "INFO: Package database updated\n"
     ]
    }
   ],
   "source": [
    "Pkg.add(\"PyCall\")\n",
    "Pkg.add(\"Distributions\")"
   ]
  },
  {
   "cell_type": "code",
   "execution_count": 9,
   "metadata": {
    "collapsed": false
   },
   "outputs": [],
   "source": [
    "using PyCall\n",
    "using Distributions"
   ]
  },
  {
   "cell_type": "code",
   "execution_count": 82,
   "metadata": {
    "collapsed": false
   },
   "outputs": [
    {
     "data": {
      "text/plain": [
       "(70.2779938293634,0.00012080985834472813)"
      ]
     },
     "execution_count": 82,
     "metadata": {},
     "output_type": "execute_result"
    }
   ],
   "source": [
    "@pyimport numpy as np\n",
    "@pyimport qinfer as qi\n",
    "\n",
    "true_omega = 70.3\n",
    "omega_min = 0\n",
    "omega_max = 99.1\n",
    "n_shots = 100\n",
    "\n",
    "ts = pi * (1:1:100) / (2 * omega_max)\n",
    "\n",
    "signal = sin(true_omega * ts / 2) .^ 2\n",
    "counts = map(p -> rand(Binomial(n_shots, p)), signal);\n",
    "\n",
    "data = [counts'; ts'; n_shots * ones(length(ts))']'\n",
    "est_mean, est_cov = qi.simple_est_prec(data, freq_min=0, freq_max=100)"
   ]
  },
  {
   "cell_type": "code",
   "execution_count": null,
   "metadata": {
    "collapsed": true
   },
   "outputs": [],
   "source": []
  }
 ],
 "metadata": {
  "kernelspec": {
   "display_name": "Julia 0.4.2",
   "language": "julia",
   "name": "julia-0.4"
  },
  "language_info": {
   "file_extension": ".jl",
   "mimetype": "application/julia",
   "name": "julia",
   "version": "0.4.5"
  }
 },
 "nbformat": 4,
 "nbformat_minor": 0
}
