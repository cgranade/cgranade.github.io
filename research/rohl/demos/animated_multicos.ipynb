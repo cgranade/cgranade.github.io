{
 "metadata": {
  "name": "",
  "signature": "sha256:b8f997d65367615062012db2ae65fc1e41c333594cb9a6aa5a0520961d4eb522"
 },
 "nbformat": 3,
 "nbformat_minor": 0,
 "worksheets": [
  {
   "cells": [
    {
     "cell_type": "heading",
     "level": 1,
     "metadata": {},
     "source": [
      "Animated Multicos Example"
     ]
    },
    {
     "cell_type": "heading",
     "level": 2,
     "metadata": {},
     "source": [
      "Introduction"
     ]
    },
    {
     "cell_type": "markdown",
     "metadata": {},
     "source": [
      "This notebook demonstrates Bayes updates and resampling steps of the sequential Monte Carlo algorithm, using [QInfer](https://github.com/csferrie/python-qinfer)."
     ]
    },
    {
     "cell_type": "heading",
     "level": 2,
     "metadata": {},
     "source": [
      "Preamble"
     ]
    },
    {
     "cell_type": "markdown",
     "metadata": {},
     "source": [
      "As always for Python 2, we need to enable sensible division support."
     ]
    },
    {
     "cell_type": "code",
     "collapsed": false,
     "input": [
      "from __future__ import division"
     ],
     "language": "python",
     "metadata": {},
     "outputs": [],
     "prompt_number": 1
    },
    {
     "cell_type": "markdown",
     "metadata": {},
     "source": [
      "We want to [suppress output of figures](http://stackoverflow.com/questions/15713279/calling-pylab-savefig-without-display-in-ipython), or else we'll generate a lot of excess figures."
     ]
    },
    {
     "cell_type": "code",
     "collapsed": false,
     "input": [
      "import matplotlib\n",
      "matplotlib.use('Agg')"
     ],
     "language": "python",
     "metadata": {},
     "outputs": [],
     "prompt_number": 3
    },
    {
     "cell_type": "markdown",
     "metadata": {},
     "source": [
      "Now we can import the basic scientific and plotting libraries we need."
     ]
    },
    {
     "cell_type": "code",
     "collapsed": false,
     "input": [
      "import numpy as np\n",
      "import matplotlib.pyplot as plt"
     ],
     "language": "python",
     "metadata": {},
     "outputs": [],
     "prompt_number": 4
    },
    {
     "cell_type": "markdown",
     "metadata": {},
     "source": [
      "Because I think it's prettier, we enable the ggplot style used by mpltools."
     ]
    },
    {
     "cell_type": "code",
     "collapsed": false,
     "input": [
      "try:\n",
      "    import mpltools.style\n",
      "    mpltools.style.use('ggplot')\n",
      "except:\n",
      "    print \"Could not set ggplot style--- this is fine, but your figures may look slightly different.\""
     ],
     "language": "python",
     "metadata": {},
     "outputs": [],
     "prompt_number": 5
    },
    {
     "cell_type": "markdown",
     "metadata": {},
     "source": [
      "We can now import QInfer and the [multicos model](http://python-qinfer.readthedocs.org/en/latest/guide/models.html#implementing-custom-simulators-and-models) we'll be using."
     ]
    },
    {
     "cell_type": "code",
     "collapsed": false,
     "input": [
      "import qinfer as qi\n",
      "from multicos import MultiCosModel"
     ],
     "language": "python",
     "metadata": {},
     "outputs": [],
     "prompt_number": 6
    },
    {
     "cell_type": "markdown",
     "metadata": {},
     "source": [
      "Finally, we need some annoying OS stuff to put the figures in a nice temporary location."
     ]
    },
    {
     "cell_type": "code",
     "collapsed": false,
     "input": [
      "import tempfile as tf\n",
      "import os"
     ],
     "language": "python",
     "metadata": {},
     "outputs": [],
     "prompt_number": 8
    },
    {
     "cell_type": "code",
     "collapsed": false,
     "input": [
      "save_loc = tf.mkdtemp(prefix='multicos-figs-')"
     ],
     "language": "python",
     "metadata": {},
     "outputs": [],
     "prompt_number": 9
    },
    {
     "cell_type": "code",
     "collapsed": false,
     "input": [
      "print \"Saving figures to {}\".format(save_loc)"
     ],
     "language": "python",
     "metadata": {},
     "outputs": [
      {
       "output_type": "stream",
       "stream": "stdout",
       "text": [
        "Saving figures to /tmp/multicos-figs2a2lpd\n"
       ]
      }
     ],
     "prompt_number": 10
    },
    {
     "cell_type": "code",
     "collapsed": false,
     "input": [
      "n_exps = 250"
     ],
     "language": "python",
     "metadata": {},
     "outputs": [],
     "prompt_number": 43
    },
    {
     "cell_type": "heading",
     "level": 2,
     "metadata": {},
     "source": [
      "Functions"
     ]
    },
    {
     "cell_type": "markdown",
     "metadata": {},
     "source": [
      "We define two functions, one which saves out figures to PNGs for later use, and one which samples experiments."
     ]
    },
    {
     "cell_type": "code",
     "collapsed": false,
     "input": [
      "def make_updater_frame(updater, fname=None, pt_size=12, true=None):\n",
      "    locs = updater.particle_locations\n",
      "    ws   = updater.particle_weights * updater.n_particles\n",
      "    \n",
      "    fig = plt.figure()\n",
      "    plt.scatter(locs[:, 0], locs[:, 1], s=pt_size*np.sqrt(ws))\n",
      "    \n",
      "    if true is not None:\n",
      "        plt.scatter(true[..., 0], true[..., 1], s=pt_size*10, c='r', marker='*')\n",
      "    \n",
      "    plt.xlim((0, 1))\n",
      "    plt.ylim((0, 1))\n",
      "    plt.axes().set_aspect('equal')\n",
      "    plt.xlabel(r'$\\omega_1$')\n",
      "    plt.ylabel(r'$\\omega_2$')\n",
      "    plt.gca().grid(True)\n",
      "    \n",
      "    if fname is not None:\n",
      "        plt.savefig(os.path.join(save_loc, fname), format='png', dpi=300)\n",
      "        del fig\n",
      "        return None\n",
      "    else:\n",
      "        return fig"
     ],
     "language": "python",
     "metadata": {},
     "outputs": [],
     "prompt_number": 37
    },
    {
     "cell_type": "code",
     "collapsed": false,
     "input": [
      "def heuristic(updater):\n",
      "    idx_exp = len(updater.data_record)\n",
      "    mag_t = (np.pi / 2) * ((129/128)**idx_exp)\n",
      "    theta = np.random.rand() * np.pi / 2\n",
      "    \n",
      "    expparams = np.array([([np.cos(theta) * mag_t, np.sin(theta) * mag_t], )], dtype=model.expparams_dtype)\n",
      "    return expparams"
     ],
     "language": "python",
     "metadata": {},
     "outputs": [],
     "prompt_number": 44
    },
    {
     "cell_type": "heading",
     "level": 2,
     "metadata": {},
     "source": [
      "The Actual Experiment"
     ]
    },
    {
     "cell_type": "markdown",
     "metadata": {},
     "source": [
      "Let's now draw data and plot the posteriors!"
     ]
    },
    {
     "cell_type": "code",
     "collapsed": false,
     "input": [
      "prior = qi.UniformDistribution([[0, 1], [0, 1]])\n",
      "true_model = prior.sample()"
     ],
     "language": "python",
     "metadata": {},
     "outputs": [],
     "prompt_number": 45
    },
    {
     "cell_type": "code",
     "collapsed": false,
     "input": [
      "model = MultiCosModel()"
     ],
     "language": "python",
     "metadata": {},
     "outputs": [],
     "prompt_number": 46
    },
    {
     "cell_type": "code",
     "collapsed": false,
     "input": [
      "updater = qi.smc.SMCUpdater(model, 1000, prior)"
     ],
     "language": "python",
     "metadata": {},
     "outputs": [],
     "prompt_number": 47
    },
    {
     "cell_type": "code",
     "collapsed": false,
     "input": [
      "for idx_exp in xrange(n_exps):\n",
      "    make_updater_frame(updater, true=true_model, fname='dist-{:04}.png'.format(idx_exp))\n",
      "    expparams = heuristic(updater)\n",
      "    outcome = model.simulate_experiment(true_model, expparams)\n",
      "    updater.update(outcome, expparams)\n",
      "make_updater_frame(updater, true=true_model, fname='dist-{:04}.png'.format(n_exps))"
     ],
     "language": "python",
     "metadata": {},
     "outputs": [],
     "prompt_number": 48
    },
    {
     "cell_type": "heading",
     "level": 2,
     "metadata": {},
     "source": [
      "Make The Video (*nix Only)"
     ]
    },
    {
     "cell_type": "markdown",
     "metadata": {},
     "source": [
      "In this section, we [assemble the PNGs](https://trac.ffmpeg.org/wiki/Create%20a%20video%20slideshow%20from%20images) we made earlier into an MPEG-4 AVC (that is, H.264) container. We assume [avconv, not ffmpeg](http://askubuntu.com/a/432585) on an Ubuntu-like system."
     ]
    },
    {
     "cell_type": "code",
     "collapsed": false,
     "input": [
      "cmd = r'avconv -framerate 10 -i {0}/dist-%04d.png -c:v libx264 -r 30 -pix_fmt yuv420p {0}/distns.mp4'.format(save_loc)"
     ],
     "language": "python",
     "metadata": {},
     "outputs": [],
     "prompt_number": 32
    },
    {
     "cell_type": "code",
     "collapsed": false,
     "input": [
      "import subprocess"
     ],
     "language": "python",
     "metadata": {},
     "outputs": [],
     "prompt_number": 33
    },
    {
     "cell_type": "markdown",
     "metadata": {},
     "source": [
      "WARNING: the following can take a long time, and if it fails, lock up IPython Notebook. Use with caution."
     ]
    },
    {
     "cell_type": "code",
     "collapsed": false,
     "input": [
      "subprocess.call(cmd, shell=True)"
     ],
     "language": "python",
     "metadata": {},
     "outputs": [
      {
       "metadata": {},
       "output_type": "pyout",
       "prompt_number": 35,
       "text": [
        "127"
       ]
      }
     ],
     "prompt_number": 35
    }
   ],
   "metadata": {}
  }
 ]
}